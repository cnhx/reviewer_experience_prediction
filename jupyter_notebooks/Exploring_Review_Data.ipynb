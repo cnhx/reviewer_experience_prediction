{
 "cells": [
  {
   "cell_type": "markdown",
   "metadata": {},
   "source": [
    "# Exploring Review Data\n",
    "- let's look at some typical reviews, how many files there are, what the distributions of review lengths and hours played are, etc."
   ]
  },
  {
   "cell_type": "code",
   "execution_count": 1,
   "metadata": {
    "collapsed": true
   },
   "outputs": [],
   "source": [
    "import os\n",
    "import sys\n",
    "from json import loads\n",
    "from collections import Counter\n",
    "\n",
    "import numpy as np\n",
    "import pandas as pd"
   ]
  },
  {
   "cell_type": "code",
   "execution_count": 2,
   "metadata": {},
   "outputs": [
    {
     "name": "stdout",
     "output_type": "stream",
     "text": [
      "     7151 data/Arma_3.jsonlines\n",
      "     7073 data/Counter_Strike_Global_Offensive.jsonlines\n",
      "     6040 data/Counter_Strike.jsonlines\n",
      "     9720 data/Dota_2.jsonlines\n",
      "     1522 data/Football_Manager_2015.jsonlines\n",
      "     7151 data/Garrys_Mod.jsonlines\n",
      "    13349 data/Grand_Theft_Auto_V.jsonlines\n",
      "        3 data/sample.jsonlines\n",
      "     7467 data/Sid_Meiers_Civilization_5.jsonlines\n",
      "     5676 data/Team_Fortress_2.jsonlines\n",
      "     7165 data/The_Elder_Scrolls_V.jsonlines\n",
      "     7123 data/Warframe.jsonlines\n",
      "    79440 total\n"
     ]
    }
   ],
   "source": [
    "# So, let's take a look at how many lines are in our reviews files\n",
    "# Note: I just started processing GTAV after ending all the other processes\n",
    "os.chdir('..')\n",
    "! wc -l data/*.jsonlines"
   ]
  },
  {
   "cell_type": "markdown",
   "metadata": {},
   "source": [
    "# Football Manager 2015 Stats"
   ]
  },
  {
   "cell_type": "code",
   "execution_count": 3,
   "metadata": {},
   "outputs": [],
   "source": [
    "# So, let's first get all of the reviews for the game with the smallest amount of\n",
    "# review data, i.e., Football Manager 2015 (not including GTAV)\n",
    "reviews = [loads(review)['review'] for review in open('data/Football_Manager_2015.jsonlines')]"
   ]
  },
  {
   "cell_type": "code",
   "execution_count": 4,
   "metadata": {},
   "outputs": [
    {
     "name": "stdout",
     "output_type": "stream",
     "text": [
      "number of reviews: 1522\n"
     ]
    }
   ],
   "source": [
    "# First of all, how many reviews are there?\n",
    "print('number of reviews: {}'.format(len(reviews)))"
   ]
  },
  {
   "cell_type": "code",
   "execution_count": 5,
   "metadata": {},
   "outputs": [
    {
     "data": {
      "text/plain": [
       "[\"ive bought this game for many years and think this might be my last. firstly im not keen on spending 30 a year on something that could be released as an update. the lack of competition in the manager genre has made SI very lazy, to the point where they make one or two small changes and market it as a new game. here are some of the points where my problems lie -ridiculous injurys, in my first season there was not one point where i didnt have at least six players injured -how many times in real football does a team make all its subs then a player gets injured and they finish the game with 10 men? well in FM about one in three games but amazingly never to the computer opponent -its almost impossible to generate any momentum anymore in FM, you will be playing well then suddenly lose for no reason -football has always been in the headlines for footballers astronomical wages, thank god its not like FM, youth players who have never made a first team appearance asking for 40k! agents of average players asking for 5mill in fees! -instead of improving things like the ability to see how your players have performed in training during the week to help your decisions on who to play SI add 'tunnel interviews'?!? i can imagine the meeting at SI 'so what have the fans on the forums been asking for' 'well their all desperate for more press interviews in the game, they just dont feel theres enough' as fans of the series we should treat SI like an alchoholic relative and not hand over money to them to continue their bad habits, in this case their bad habits being treating fans like cash-cows that they can just make sub-standard games for and rely on fan loyalty\",\n",
       " 'There are some good things about FM 2015 which might make it interesting for someone who has never played the series before. For me, as a pretty hardcore player, I feel like I\\'m in a vicious circle just feeding my malcontent about the game, but cannot break my addiction. And hell, I\\'ve had many spells of FM addiction throughout the last fifteen years, but they are only truly rewarding when I feel I can make a difference with my particular style of play. And my preferred scenario is the lower league model, excessive scouting, wheeler dealer kind of approach, which is worth very little in 2015. The thing that works the least, for me, is that I don\\'t feel I can truly play the game the way I would want to play it. My expectation is that somehow getting a few amazing players in a League 2 or Conference team should show. But whether it shows or not depends on chance, player ratings are very position dependent, with central midfielders taking the runt of bad ratings, however amazing they may seem. So I might spend hours searching for the coolest prospects I can find, fishing for work permits for my non-eu conquests, but getting phenomenal players on a mediocre squad matters very little. The general feeling is of a wooden game. Bizarre things happen which seem to defy reason. Some are buggy, like goalkeeper reactions, some are fixable via lengthy tactical tinkering, like defending corners, and others are the worst of all: monotonous. Long distance goals? Maybe on TV. A fast player outrunning a defender unless the latter fumbles it? Keep dreaming. Half competent goalkeepers seem harder to find than the proverbial needle. And then there\\'s an aggressive randomness to how a team behaves and matches unfold. My \"concede within the first ten minutes syndrome\" seems unshakable. I am not saying it cannot be done, but the feeling is that it is something that needs to be fixed from the get go, rather than something that should be reasonably fine under normal conditions, like corners. And when there\\'s a huge quality gap between your players and the opposition, it all gets hard to fathom. So why have I played hundreds of hours of this? On the one hand, the addiction. On the other, that elusive feeling when things actually do go right and you win an amzing match. But I am left frustrated because FM seems to be going nowhere, the development of the game fails to address key issues year after year. A balanced match engine. A bit of flair and a bit of the unexpected. Some character and individuality to the players. Unbiased ratings. Consistency and logic in the transfer system. Of course it\\'s not easy and there\\'s a lot of back and forth in trying to get it all together, but considering the heritage of this series, I cannot avoid a distinct sensation of complacency, padded with the occasional UI revamp or a couple of shiny new features. Bottom line: if you have not played this yet, maybe wait it out some more, like until SI decide to take the bull by the horns and create another classic. There are many people who enjoy working on this game and its database is a treasure trove, an inimitable advantage for anyone interested in joining the fray. The risk with taking it up is that even if you get it for free, time costs incurred are not worth the experience and chances are your passion for football will be your downfall, in spite of this.',\n",
       " 'I have played every iteration of the Football Manager series, long before I even used Steam and I have to say that Football Manager 2015 has some of the most glaring issues I have seen within the series. Manager customization has been inserted and is a step in the right direction, but not entirely. So, you will get to \"customize\" the stats of your manager. Are you more laid back or more technical? The option to customize and edit stats as such as adaptability and understand of things like attacking, defensive, etc are there. However, i don\\'t entirely know what impact they have on the game as In my 9 hours of playing I haven\\'t really noticed it or came across them again. I also do not know if these stats improve or worsen over time, depending on what you do - as the game does not tell you, even in the very brief tutorials. The new user interface layout is amazing and is long overdue. I actually found that I stopped playing Football Manager 2014 because of the UI. It was clunky, it was a mess and I had no idea where anything was. It was all just text and drop down menu\\'s. Now there is a nice sidebar which provides links that take you to the most important and most used parts of the game as such as tactics, scouting, team, etc. Purchasing players is odd this year. Sometimes it is extremely easy to buy a player and others extremely difficult, for no reason - even if you are trying to purchase an already transfer listed player or a reserve player getting no games at his current club. The old \"Let me pay 100m on a 48 month deal\" STILL works. You can buy any player that wants to come to your club if you use this method and it totally breaks the entire game. My biggest gripe and the sole reason why I need to give a bad recommendation to this game: The AI and the match engine. The AI in Football Manager 2015 is the worst I have ever seen in the series. If you actually sit and watch the match unfold you will see some of the following: - Players running for a ball and stopping for no reason - The goalkeeper saving the ball, standing back and staring at the ball, which is touching his feet - A Player will chase the ball down the wing at full speed, slow down and allow a opposing team player to catch up and take the ball. - Opposing team player has the ball and stands still. All of your players are polite enough to let him stand still. - Outrages tackles: Ball is moving out of your box, opposing striker is running out of your box. There is no threat. Defender will slide tackle him as he is leaving the box and give away a penalty. - CB\\'s that seem to play as strikers, leaving entire gaps in your defence. Red cards, injuries and own goals - EVERYWHERE. I have not went through a game yet where there has not been at least one own goal either by my team or the opposing team. They are everywhere. Red cards and injuries happen in abundance - I have had 10 players injured within the first month of a season even though I had average training and not too many games in quick succession. Tactics do not work as they are intended. If you sit down and take the time to read and learn how to create tactics, you will be so frustrated. The game gives you descriptions of what each position and instruction does, in depth. This is great. However, they do not work as they say. Short passing, retaining position and not punting the ball up the park? Team constantly just fires the ball all over the park with next to no short passing. Push higher up the park? Team sits deep. Because of these issues, scorelines can be ridiculous. In my first 5 games of the season there was a combined number of 30 goals between me and the other team. My first game finished 5-4 and my second was 6-3. This all leads to a very frustrating experience overall. Every year SI always say \"we are improving the match engine\". Where are these improvements? I have not seen any improvements, just more bugs and terrible AI. I love this series and I am a huge football fan, but I feel obliged to tell fellow consumers not to purchase this product until it vastly improves.']"
      ]
     },
     "execution_count": 5,
     "metadata": {},
     "output_type": "execute_result"
    }
   ],
   "source": [
    "# Here's a couple reviews from the beginning of the file\n",
    "reviews[:3]"
   ]
  },
  {
   "cell_type": "markdown",
   "metadata": {},
   "source": [
    "# Football Manager 2015: Review Length Distribution"
   ]
  },
  {
   "cell_type": "code",
   "execution_count": 6,
   "metadata": {},
   "outputs": [
    {
     "data": {
      "text/plain": [
       "[1669, 3370, 4072, 1126, 60, 3403, 1283, 3104, 1309, 954]"
      ]
     },
     "execution_count": 6,
     "metadata": {},
     "output_type": "execute_result"
    }
   ],
   "source": [
    "# Let's measure the lengths of each review using a \"list comprehension\"\n",
    "lengths = [len(review) for review in reviews]\n",
    "# Let's print out the first 10 lengths, just to see what we're working with\n",
    "lengths[:10]"
   ]
  },
  {
   "cell_type": "code",
   "execution_count": 7,
   "metadata": {},
   "outputs": [
    {
     "name": "stdout",
     "output_type": "stream",
     "text": [
      "average length: 410.745729303548\n"
     ]
    }
   ],
   "source": [
    "# Compute the average length value\n",
    "avg_len = sum(lengths)/len(lengths)\n",
    "print('average length: {}'.format(avg_len))"
   ]
  },
  {
   "cell_type": "code",
   "execution_count": 8,
   "metadata": {},
   "outputs": [
    {
     "name": "stdout",
     "output_type": "stream",
     "text": [
      "minimum review length = 5\n"
     ]
    }
   ],
   "source": [
    "min_len = min(lengths)\n",
    "print('minimum review length = {}'.format(min_len))"
   ]
  },
  {
   "cell_type": "code",
   "execution_count": 9,
   "metadata": {},
   "outputs": [
    {
     "name": "stdout",
     "output_type": "stream",
     "text": [
      "maximum review length = 7653\n"
     ]
    }
   ],
   "source": [
    "max_len = max(lengths)\n",
    "print('maximum review length = {}'.format(max_len))"
   ]
  },
  {
   "cell_type": "code",
   "execution_count": 10,
   "metadata": {},
   "outputs": [],
   "source": [
    "_lengths = np.array(lengths)"
   ]
  },
  {
   "cell_type": "code",
   "execution_count": 11,
   "metadata": {},
   "outputs": [],
   "source": [
    "std = _lengths.std()"
   ]
  },
  {
   "cell_type": "code",
   "execution_count": 12,
   "metadata": {},
   "outputs": [
    {
     "data": {
      "text/plain": [
       "1522"
      ]
     },
     "execution_count": 12,
     "metadata": {},
     "output_type": "execute_result"
    }
   ],
   "source": [
    "_lengths.size"
   ]
  },
  {
   "cell_type": "code",
   "execution_count": 13,
   "metadata": {},
   "outputs": [
    {
     "data": {
      "text/plain": [
       "array([ 1717.88314193,  3435.76628385,  4122.91954062, ...,    68.71532568,\n",
       "         549.72260542,   343.57662839])"
      ]
     },
     "execution_count": 13,
     "metadata": {},
     "output_type": "execute_result"
    }
   ],
   "source": [
    "bins = std/10.0\n",
    "_rounded_lengths = np.array([np.ceil(l/bins)*bins for l in lengths])\n",
    "_rounded_lengths"
   ]
  },
  {
   "cell_type": "code",
   "execution_count": 14,
   "metadata": {},
   "outputs": [
    {
     "name": "stdout",
     "output_type": "stream",
     "text": [
      "original lengths (first 10):          [1669, 3370, 4072, 1126, 60, 3403, 1283, 3104, 1309, 954]\n",
      "rounded lengths (to the nearest 300): [1680.0, 3420.0, 4080.0, 1140.0, 60.0, 3420.0, 1320.0, 3120.0, 1320.0, 960.0]\n"
     ]
    }
   ],
   "source": [
    "# Let's make bins of size 300\n",
    "rounded_lengths = [np.ceil(l/60)*60 for l in lengths]\n",
    "print('original lengths (first 10):          {}\\nrounded lengths (to the nearest 300): {}'\n",
    "      .format(lengths[:10], rounded_lengths[:10]))"
   ]
  },
  {
   "cell_type": "code",
   "execution_count": 15,
   "metadata": {},
   "outputs": [
    {
     "data": {
      "text/plain": [
       "Counter({68.715325677021156: 426,\n",
       "         137.43065135404231: 273,\n",
       "         206.14597703106347: 151,\n",
       "         274.86130270808462: 120,\n",
       "         343.57662838510578: 74,\n",
       "         412.29195406212693: 56,\n",
       "         481.00727973914809: 50,\n",
       "         549.72260541616924: 47,\n",
       "         618.4379310931904: 37,\n",
       "         687.15325677021156: 31,\n",
       "         755.86858244723271: 35,\n",
       "         824.58390812425387: 18,\n",
       "         893.29923380127502: 24,\n",
       "         962.01455947829618: 12,\n",
       "         1030.7298851553173: 20,\n",
       "         1099.4452108323385: 9,\n",
       "         1168.1605365093596: 16,\n",
       "         1236.8758621863808: 3,\n",
       "         1305.591187863402: 8,\n",
       "         1374.3065135404231: 6,\n",
       "         1443.0218392174443: 6,\n",
       "         1511.7371648944654: 12,\n",
       "         1580.4524905714866: 7,\n",
       "         1649.1678162485077: 5,\n",
       "         1717.8831419255289: 13,\n",
       "         1786.59846760255: 3,\n",
       "         1855.3137932795712: 3,\n",
       "         1924.0291189565924: 1,\n",
       "         1992.7444446336135: 5,\n",
       "         2061.4597703106347: 3,\n",
       "         2130.1750959876558: 3,\n",
       "         2198.890421664677: 2,\n",
       "         2267.6057473416981: 3,\n",
       "         2405.0363986957404: 3,\n",
       "         2473.7517243727616: 1,\n",
       "         2542.4670500497828: 1,\n",
       "         2611.1823757268039: 1,\n",
       "         2748.6130270808462: 3,\n",
       "         2817.3283527578674: 2,\n",
       "         2886.0436784348885: 3,\n",
       "         2954.7590041119097: 1,\n",
       "         3023.4743297889308: 1,\n",
       "         3092.189655465952: 1,\n",
       "         3160.9049811429732: 1,\n",
       "         3298.3356324970155: 1,\n",
       "         3367.0509581740366: 1,\n",
       "         3435.7662838510578: 3,\n",
       "         3573.1969352051001: 1,\n",
       "         3641.9122608821212: 1,\n",
       "         3779.3429122361636: 2,\n",
       "         4122.9195406212693: 3,\n",
       "         4260.3501919753116: 1,\n",
       "         4329.0655176523323: 1,\n",
       "         4397.780843329354: 1,\n",
       "         4535.2114946833963: 1,\n",
       "         4878.7881230685016: 1,\n",
       "         5222.3647514536078: 2,\n",
       "         5428.5107284846708: 1,\n",
       "         5703.3720311927555: 1,\n",
       "         7696.1164758263694: 1})"
      ]
     },
     "execution_count": 15,
     "metadata": {},
     "output_type": "execute_result"
    }
   ],
   "source": [
    "# Now, let's make a frequency distribution with the collections.Counter module\n",
    "rounded_length_fdist = Counter(_rounded_lengths)\n",
    "rounded_length_fdist"
   ]
  },
  {
   "cell_type": "code",
   "execution_count": 16,
   "metadata": {
    "collapsed": true
   },
   "outputs": [],
   "source": [
    "# It is obvious from looking at the freq. dist. above that length drops off a cliff\n",
    "# after about 1000 characters\n",
    "# In fact, for length up to 900, almost 1,050 reviews are accounted for, which means\n",
    "# that only a little over 100 reviews are thinly-distributed over the remaining area\n",
    "# above 1,000 characters"
   ]
  },
  {
   "cell_type": "code",
   "execution_count": 17,
   "metadata": {},
   "outputs": [
    {
     "data": {
      "text/plain": [
       "68.715326      426\n",
       "137.430651     273\n",
       "206.145977     151\n",
       "274.861303     120\n",
       "343.576628      74\n",
       "412.291954      56\n",
       "481.007280      50\n",
       "549.722605      47\n",
       "618.437931      37\n",
       "755.868582      35\n",
       "687.153257      31\n",
       "893.299234      24\n",
       "1030.729885     20\n",
       "824.583908      18\n",
       "1168.160537     16\n",
       "1717.883142     13\n",
       "962.014559      12\n",
       "1511.737165     12\n",
       "1099.445211      9\n",
       "1305.591188      8\n",
       "1580.452491      7\n",
       "1443.021839      6\n",
       "1374.306514      6\n",
       "1649.167816      5\n",
       "1992.744445      5\n",
       "1786.598468      3\n",
       "2130.175096      3\n",
       "2886.043678      3\n",
       "2405.036399      3\n",
       "4122.919541      3\n",
       "2061.459770      3\n",
       "1855.313793      3\n",
       "3435.766284      3\n",
       "2748.613027      3\n",
       "2267.605747      3\n",
       "1236.875862      3\n",
       "5222.364751      2\n",
       "3779.342912      2\n",
       "2817.328353      2\n",
       "2198.890422      2\n",
       "5703.372031      1\n",
       "3023.474330      1\n",
       "2542.467050      1\n",
       "4329.065518      1\n",
       "4878.788123      1\n",
       "7696.116476      1\n",
       "3298.335632      1\n",
       "3092.189655      1\n",
       "3160.904981      1\n",
       "1924.029119      1\n",
       "3367.050958      1\n",
       "4260.350192      1\n",
       "2954.759004      1\n",
       "4397.780843      1\n",
       "3573.196935      1\n",
       "5428.510728      1\n",
       "3641.912261      1\n",
       "4535.211495      1\n",
       "2473.751724      1\n",
       "2611.182376      1\n",
       "dtype: int64"
      ]
     },
     "execution_count": 17,
     "metadata": {},
     "output_type": "execute_result"
    }
   ],
   "source": [
    "# Usually, when you use Pandas, you're using a dataframe, but a dataframe, as I understand\n",
    "# it, it just made up on a set of \"Series\"\n",
    "# Let's make a Series from our rounded lengths and then call its value_counts() method to\n",
    "# get exactly what collections.Counter was doing (but we'll be able to use it to make a\n",
    "# nice plot)\n",
    "rounded_length_series = pd.Series(_rounded_lengths)\n",
    "rounded_length_series.value_counts()"
   ]
  },
  {
   "cell_type": "code",
   "execution_count": 18,
   "metadata": {},
   "outputs": [
    {
     "data": {
      "image/png": "[encoded data removed]",
      "text/plain": [
       "<matplotlib.figure.Figure at 0x2afbdb403b00>"
      ]
     },
     "metadata": {},
     "output_type": "display_data"
    }
   ],
   "source": [
    "# The table above is nice, but let's do better and try to get a histogram\n",
    "# Don't worry about all this importing stuff, it's just from something I read in a blog\n",
    "# post\n",
    "# Actually, go and check out the blog post here:\n",
    "# http://nbviewer.ipython.org/github/mwaskom/seaborn/blob/master/examples/plotting_distributions.ipynb\n",
    "# It's in, you guessed it, an IPython notebook! Shows what you can do with\n",
    "# matplotlib.\n",
    "%matplotlib inline\n",
    "import pandas as pd\n",
    "import seaborn as sns\n",
    "import matplotlib.pyplot as plt\n",
    "sns.set_palette(\"deep\", desat=.6)\n",
    "sns.set_context(rc={\"figure.figsize\": (8, 4)})\n",
    "fig = plt.figure()\n",
    "ax = fig.add_subplot(111)\n",
    "ax.hist(pd.Series(lengths), label='Game')\n",
    "ax.set_xlabel('Review length (in characters)')\n",
    "ax.set_ylabel('Total reviews')\n",
    "ax.set_title('Histogram')\n",
    "fig.savefig('sample_fig')"
   ]
  },
  {
   "cell_type": "code",
   "execution_count": 19,
   "metadata": {
    "collapsed": true
   },
   "outputs": [],
   "source": [
    "# That is one nice-looking histogram!\n",
    "# From it, we can really see just how few reviews there are past 1,000\n",
    "# For this item, we could probably set the cap at 1,200, let's say\n",
    "# What do you think?"
   ]
  },
  {
   "cell_type": "code",
   "execution_count": 20,
   "metadata": {},
   "outputs": [
    {
     "data": {
      "text/plain": [
       "True"
      ]
     },
     "execution_count": 20,
     "metadata": {},
     "output_type": "execute_result"
    }
   ],
   "source": [
    "# If 90% of the reviews have length <= 1200 of the reviews, but not 900,\n",
    "# let's set MAXLEN to 1200\n",
    "len([r for r in reviews if len(r) <= 1200])/len(reviews) >= 0.9"
   ]
  },
  {
   "cell_type": "markdown",
   "metadata": {},
   "source": [
    "# Football Manager 2015: Hours Distribution"
   ]
  },
  {
   "cell_type": "code",
   "execution_count": 21,
   "metadata": {},
   "outputs": [
    {
     "data": {
      "text/plain": [
       "[460.5, 197.9, 159.4, 1814.2, 377.0, 422.1, 84.9, 148.7, 789.1, 1263.2]"
      ]
     },
     "execution_count": 21,
     "metadata": {},
     "output_type": "execute_result"
    }
   ],
   "source": [
    "# Let's do a similar kind of thing for the hours values\n",
    "hours  = [loads(review)['total_game_hours'] for review in open('data/Football_Manager_2015.jsonlines')]\n",
    "hours[:10]"
   ]
  },
  {
   "cell_type": "code",
   "execution_count": 22,
   "metadata": {},
   "outputs": [
    {
     "name": "stdout",
     "output_type": "stream",
     "text": [
      "min: 0.0\n",
      "max: 3416.8\n"
     ]
    }
   ],
   "source": [
    "print(\"min: {}\\nmax: {}\".format(min(hours), max(hours)))"
   ]
  },
  {
   "cell_type": "code",
   "execution_count": 23,
   "metadata": {
    "collapsed": true
   },
   "outputs": [],
   "source": [
    "rounded_hours = [np.ceil(h/200)*200 for h in hours]"
   ]
  },
  {
   "cell_type": "code",
   "execution_count": 24,
   "metadata": {},
   "outputs": [
    {
     "data": {
      "text/plain": [
       "[600.0, 200.0, 200.0, 2000.0, 400.0, 600.0, 200.0, 200.0, 800.0, 1400.0]"
      ]
     },
     "execution_count": 24,
     "metadata": {},
     "output_type": "execute_result"
    }
   ],
   "source": [
    "rounded_hours[:10]"
   ]
  },
  {
   "cell_type": "code",
   "execution_count": 25,
   "metadata": {},
   "outputs": [
    {
     "data": {
      "text/plain": [
       "200     721\n",
       "400     352\n",
       "600     166\n",
       "800     112\n",
       "1000     59\n",
       "1200     43\n",
       "1400     17\n",
       "1600     14\n",
       "1800     10\n",
       "2000      7\n",
       "2400      4\n",
       "3000      4\n",
       "2200      4\n",
       "2800      3\n",
       "2600      2\n",
       "0         2\n",
       "3600      1\n",
       "3400      1\n",
       "dtype: int64"
      ]
     },
     "execution_count": 25,
     "metadata": {},
     "output_type": "execute_result"
    }
   ],
   "source": [
    "# Let's use pandas again instead of collections.Counter\n",
    "rounded_hours_series = pd.Series(rounded_hours)\n",
    "rounded_hours_series.value_counts()"
   ]
  },
  {
   "cell_type": "code",
   "execution_count": 26,
   "metadata": {
    "collapsed": true
   },
   "outputs": [],
   "source": [
    "# Hmm, well, would you look at that! The distribution looks exactly the same\n",
    "# as that for length!"
   ]
  },
  {
   "cell_type": "code",
   "execution_count": 27,
   "metadata": {},
   "outputs": [
    {
     "data": {
      "text/plain": [
       "(array([ 723.,  518.,  171.,   60.,   14.,   17.,    8.,    5.,    4.,    2.]),\n",
       " array([    0.,   360.,   720.,  1080.,  1440.,  1800.,  2160.,  2520.,\n",
       "         2880.,  3240.,  3600.]),\n",
       " <a list of 10 Patch objects>)"
      ]
     },
     "execution_count": 27,
     "metadata": {},
     "output_type": "execute_result"
    },
    {
     "data": {
      "image/png": "[encoded data removed]",
      "text/plain": [
       "<matplotlib.figure.Figure at 0x2afbdb1505c0>"
      ]
     },
     "metadata": {},
     "output_type": "display_data"
    }
   ],
   "source": [
    "# Let's plot it!\n",
    "plt.hist(rounded_hours_series)"
   ]
  },
  {
   "cell_type": "code",
   "execution_count": 28,
   "metadata": {},
   "outputs": [
    {
     "data": {
      "text/plain": [
       "False"
      ]
     },
     "execution_count": 28,
     "metadata": {},
     "output_type": "execute_result"
    }
   ],
   "source": [
    "# If 90% of the reviews have hours values <= 800 of the reviews, but not 600,\n",
    "# let's set MAXHOURS to 800\n",
    "len([r for r in hours if float(r) <= 400])/len(hours) >= 0.9"
   ]
  }
 ],
 "metadata": {
  "kernelspec": {
   "display_name": "Python 3",
   "language": "python",
   "name": "python3"
  },
  "language_info": {
   "codemirror_mode": {
    "name": "ipython",
    "version": 3
   },
   "file_extension": ".py",
   "mimetype": "text/x-python",
   "name": "python",
   "nbconvert_exporter": "python",
   "pygments_lexer": "ipython3",
   "version": "3.6.5"
  }
 },
 "nbformat": 4,
 "nbformat_minor": 1
}
