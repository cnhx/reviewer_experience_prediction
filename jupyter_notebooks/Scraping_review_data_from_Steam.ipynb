{
 "cells": [
  {
   "cell_type": "markdown",
   "metadata": {},
   "source": [
    "# Collecting Review/User Data from Steam"
   ]
  },
  {
   "cell_type": "code",
   "execution_count": 5,
   "metadata": {},
   "outputs": [],
   "source": [
    "# Let's say that the URL for a game is the following\n",
    "url = 'http://steamcommunity.com/app/730/homecontent/?userreviewsoffset=0&p=1&itemspage=1&screenshotspage=1&videospage=1&artpage=1&allguidepage=1&webguidepage=1&integratedguidepage=1&discussionspage=1&appid=730&appHubSubSection=10&appHubSubSection=10&l=english&browsefilter=toprated&filterLanguage=default&searchText=&forceanon=1'\n",
    "# The game is actually Counter-Strike: Global Offensive (CS: GO)\n",
    "# It's difficult to see, but there are a few parts of the URL that are of\n",
    "# interest to us\n",
    "# 1. '/app/730' tells us that the appid is 730, which corresponds to\n",
    "#    Counter-Strike: Global Offensive (CS: GO)\n",
    "#    - this info is also later in the URL: 'appid=730'\n",
    "# 2. 'userreviewsoffset=0' - this is the start number for the review results\n",
    "#    - if 0, that means that the reviews we see will be 0 through 9\n",
    "#    - if 1, 10 through 19, etc.\n",
    "# 3. there are numerous parts that end in 'page=1' - the number here refers\n",
    "#    to an iterator that stores how many 10-review pages you've seen (i.e.,\n",
    "#    usually by hovering at the bottom of the reviews results page to make\n",
    "#    more visible)\n",
    "#    - userreviewsoffset = 0, then page should be 1\n",
    "#    - if userreviewsoffset = 10, then page should be 2,\n",
    "#    - if userreviewsoffset = 20, then page should be 3,\n",
    "#    - etc.\n",
    "# So, this will allow us to make a for loop to go through all possible pages\n",
    "# of reviews!"
   ]
  },
  {
   "cell_type": "code",
   "execution_count": 6,
   "metadata": {},
   "outputs": [
    {
     "name": "stdout",
     "output_type": "stream",
     "text": [
      "http://steamcommunity.com/app/730/homecontent/?userreviewsoffset=0&p=1&itemspage=1&screenshotspage=1&videospage=1&artpage=1&allguidepage=1&webguidepage=1&integratedguidepage=1&discussionspage=1&appid=730&appHubSubSection=10&appHubSubSection=10&l=english&browsefilter=toprated&filterLanguage=default&searchText=&forceanon=1\n"
     ]
    }
   ],
   "source": [
    "# Let's redefine the URL with format specifiers so that we use the URL in\n",
    "# a loop\n",
    "# We'll set the game ID (appid), range beginning value (range_begin), and\n",
    "# increment value (i)\n",
    "appid = '730'\n",
    "range_begin = '0'\n",
    "i = '1'\n",
    "url = 'http://steamcommunity.com/app/{0}/homecontent/?userreviewsoffset={1}&p=1&itemspage={2}&screenshotspage={2}&videospage={2}&artpage={2}&allguidepage={2}&webguidepage={2}&integratedguidepage={2}&discussionspage={2}&appid={0}&appHubSubSection=10&appHubSubSection=10&l=english&browsefilter=toprated&filterLanguage=default&searchText=&forceanon=1'.format(appid, range_begin, i)\n",
    "print(url)"
   ]
  },
  {
   "cell_type": "code",
   "execution_count": 7,
   "metadata": {},
   "outputs": [],
   "source": [
    "# The link above will not work if you try to go to it directly\n",
    "# However, if you go to the link and then try to view the source HTML,\n",
    "# you will be able to see the HTML"
   ]
  },
  {
   "cell_type": "code",
   "execution_count": 8,
   "metadata": {},
   "outputs": [],
   "source": [
    "# We can read, parse, and then extract the content at the URL using\n",
    "# requests and bs4 (and lxml) modules\n",
    "from bs4 import BeautifulSoup\n",
    "from lxml import html\n",
    "import requests"
   ]
  },
  {
   "cell_type": "code",
   "execution_count": 9,
   "metadata": {},
   "outputs": [],
   "source": [
    "# Let's use requests.get() to get the page\n",
    "page = requests.get(url)"
   ]
  },
  {
   "cell_type": "code",
   "execution_count": 10,
   "metadata": {},
   "outputs": [
    {
     "data": {
      "text/plain": [
       "['apparent_encoding',\n",
       " 'close',\n",
       " 'connection',\n",
       " 'content',\n",
       " 'cookies',\n",
       " 'elapsed',\n",
       " 'encoding',\n",
       " 'headers',\n",
       " 'history',\n",
       " 'is_permanent_redirect',\n",
       " 'is_redirect',\n",
       " 'iter_content',\n",
       " 'iter_lines',\n",
       " 'json',\n",
       " 'links',\n",
       " 'next',\n",
       " 'ok',\n",
       " 'raise_for_status',\n",
       " 'raw',\n",
       " 'reason',\n",
       " 'request',\n",
       " 'status_code',\n",
       " 'text',\n",
       " 'url']"
      ]
     },
     "execution_count": 10,
     "metadata": {},
     "output_type": "execute_result"
    }
   ],
   "source": [
    "# Let's take a look at the attributes of the page object\n",
    "[a for a in dir(page) if not a.startswith('_') and not a.endswith('_')]\n",
    "# Don't worry about the code here, it's just a trick to see public\n",
    "# methods for a requests object"
   ]
  },
  {
   "cell_type": "code",
   "execution_count": 11,
   "metadata": {},
   "outputs": [
    {
     "data": {
      "text/plain": [
       "'\\t\\t<div id=\"page1\">\\r\\n\\t\\t<div class=\"apphub_Card modalContentLink interactable\" style=\"display: none\" data-modal-content-url=\"https://steamcommunity.com/profiles/76561198119996056/recommended/730/\" data-modal-content-sizetofit=\"false\">\\r\\n\\t<div class=\"apphub_CardContentMain\">\\r\\n\\t\\t<div class=\"apphub_UserReviewCardContent\">\\r\\n\\t\\t\\t<div class=\"found_helpful\">\\r\\n\\t\\t\\t\\t6,980 people found this review helpful<br>2,027 people found this review funny\\t\\t\\t</div>\\r\\n\\r\\n\\t\\t\\t<div class=\"vote_header\">\\r\\n\\t\\t\\t\\t\\t\\t\\t\\t<div class=\"reviewInfo\">\\r\\n\\t\\t\\t\\t\\t<div class=\"thumb\">\\r\\n\\t\\t\\t\\t\\t\\t<img src=\"https://steamcommunity-a.akamaihd.net/public/shared/images/userreviews/icon_thumbsUp.png?v=1\" width=\"44\" height=\"44\">\\r\\n\\t\\t\\t\\t\\t</div>\\r\\n\\r\\n\\t\\t\\t\\t\\t\\t\\t\\t\\t\\t<div class=\"title\">Recommended</div>\\r\\n\\t\\t\\t\\t\\t\\t\\t\\t\\t\\t\\t\\t\\t\\t\\t<div class=\"hours\">2,711.8 hrs on record</div>\\r\\n\\t\\t\\t\\t\\t\\t\\t\\t\\t</div>\\r\\n\\t\\t\\t\\t<div style=\"clear: left\"></div>\\r\\n\\t\\t\\t</div>\\r\\n\\r\\n\\t\\t\\t<div class=\"apphub_CardTextContent\">\\r\\n\\t\\t\\t\\t<div class=\"date_posted\">Posted: October 18, 2016</div>\\r\\n\\t\\t\\t\\t\\t\\t\\t\\t\\t\\t\\t\\tWhere can I get the En'"
      ]
     },
     "execution_count": 11,
     "metadata": {},
     "output_type": "execute_result"
    }
   ],
   "source": [
    "# We see that there are attributes for the text, json, lines, etc.,\n",
    "# so let's take a look at some of this stuff\n",
    "page.text[:1000] # Here's the raw HTML"
   ]
  },
  {
   "cell_type": "code",
   "execution_count": 12,
   "metadata": {},
   "outputs": [],
   "source": [
    "# After looking at some of the other attributes, I've determined\n",
    "# that the text attribute is probably the only thing that\n",
    "# concerns us, so let's use it\n",
    "text = page.text"
   ]
  },
  {
   "cell_type": "code",
   "execution_count": 13,
   "metadata": {},
   "outputs": [],
   "source": [
    "# The text, as you can see from the view above, has lots of \\r,\n",
    "# \\n, \\t characters in it, which might not be good for HTML\n",
    "# parsing in our case (I won't get into why, partly because I'm\n",
    "# not completely sure I get why), so let's get rid of all such\n",
    "# characters, replacing them with spaces instead\n",
    "# To do this we will use the re module, which allows us to use\n",
    "# regular expressions\n",
    "import re\n",
    "# While we're at it, it's best to get rid of all \"<br>\" tags since\n",
    "# they could also present problems during parsing\n",
    "# We can use the re.sub() method to find one regular expression and\n",
    "# replace it with another in a given text\n",
    "text = re.sub(r'\\<br\\>', r' ', text) # Looks for the string \"<br>\"\n",
    "    # and replaces it with a space\n",
    "text = re.sub(r'[\\n\\t\\r ]+', r' ', text) # Looks for any sequence\n",
    "    # of carriage returns or whitespace characters and replaces\n",
    "    # them with a single space\n",
    "text = text.strip() # Get rid of spaces at either end"
   ]
  },
  {
   "cell_type": "code",
   "execution_count": 14,
   "metadata": {},
   "outputs": [
    {
     "data": {
      "text/plain": [
       "'<div id=\"page1\"> <div class=\"apphub_Card modalContentLink interactable\" style=\"display: none\" data-modal-content-url=\"https://steamcommunity.com/profiles/76561198119996056/recommended/730/\" data-modal-content-sizetofit=\"false\"> <div class=\"apphub_CardContentMain\"> <div class=\"apphub_UserReviewCardContent\"> <div class=\"found_helpful\"> 6,980 people found this review helpful 2,027 people found this review funny </div> <div class=\"vote_header\"> <div class=\"reviewInfo\"> <div class=\"thumb\"> <img src=\"https://steamcommunity-a.akamaihd.net/public/shared/images/userreviews/icon_thumbsUp.png?v=1\" width=\"44\" height=\"44\"> </div> <div class=\"title\">Recommended</div> <div class=\"hours\">2,711.8 hrs on record</div> </div> <div style=\"clear: left\"></div> </div> <div class=\"apphub_CardTextContent\"> <div class=\"date_posted\">Posted: October 18, 2016</div> Where can I get the English version ? </div> </div> <div class=\"UserReviewCardContent_Footer\"> <div class=\"gradient\">&nbsp;</div> </div> </div> <div cla'"
      ]
     },
     "execution_count": 14,
     "metadata": {},
     "output_type": "execute_result"
    }
   ],
   "source": [
    "# Let's take a look at the cleaned-up version of the source HTML\n",
    "text[:1000]"
   ]
  },
  {
   "cell_type": "code",
   "execution_count": 15,
   "metadata": {},
   "outputs": [],
   "source": [
    "# Ok, that looks much nicer!"
   ]
  },
  {
   "cell_type": "code",
   "execution_count": 16,
   "metadata": {},
   "outputs": [],
   "source": [
    "# Now, let's try to use bs4 to extract data from the cleaned-up HTML\n",
    "soup = BeautifulSoup(text, \"lxml\")"
   ]
  },
  {
   "cell_type": "code",
   "execution_count": 17,
   "metadata": {},
   "outputs": [
    {
     "data": {
      "text/plain": [
       "<html><body><div id=\"page1\"> <div class=\"apphub_Card modalContentLink interactable\" data-modal-content-sizetofit=\"false\" data-modal-content-url=\"https://steamcommunity.com/profiles/76561198119996056/recommended/730/\" style=\"display: none\"> <div class=\"apphub_CardContentMain\"> <div class=\"apphub_UserReviewCardContent\"> <div class=\"found_helpful\"> 6,980 people found this review helpful 2,027 people found this review funny </div> <div class=\"vote_header\"> <div class=\"reviewInfo\"> <div class=\"thumb\"> <img height=\"44\" src=\"https://steamcommunity-a.akamaihd.net/public/shared/images/userreviews/icon_thumbsUp.png?v=1\" width=\"44\"/> </div> <div class=\"title\">Recommended</div> <div class=\"hours\">2,711.8 hrs on record</div> </div> <div style=\"clear: left\"></div> </div> <div class=\"apphub_CardTextContent\"> <div class=\"date_posted\">Posted: October 18, 2016</div> Where can I get the English version ? </div> </div> <div class=\"UserReviewCardContent_Footer\"> <div class=\"gradient\"> </div> </div> </div> <div class=\"apphub_CardContentAuthorBlock tall\"> <div class=\"apphub_friend_block_container\"> <a href=\"https://steamcommunity.com/profiles/76561198119996056/\"> <div class=\"apphub_friend_block\" data-miniprofile=\"159730328\"> <div class=\"appHubIconHolder offline\"><img src=\"https://steamcdn-a.akamaihd.net/steamcommunity/public/images/avatars/da/dac6e3658d80b77b92176d67b049dd0009c9863c.jpg\"/></div> <div class=\"appHubIconHolder greyOverlay\"></div> <div class=\"apphub_CardContentAuthorName offline ellipsis\"><a href=\"https://steamcommunity.com/profiles/76561198119996056/\">ιzoneR</a></div> <div class=\"apphub_CardContentMoreLink ellipsis\">64 products in account</div> </div> </a> </div> <div class=\"apphub_UserReviewCardStats\"> <div class=\"apphub_CardCommentCount alignNews\">359</div> </div> <div style=\"clear: left\"></div> </div> </div><div class=\"apphub_Card modalContentLink interactable\" data-modal-content-sizetofit=\"false\" data-modal-content-url=\"https://steamcommunity.com/profiles/76561198338303034/recommended/730/\" style=\"display: none\"> <div class=\"apphub_CardContentMain\"> <div class=\"apphub_UserReviewCardContent\"> <div class=\"found_helpful\"> 12,052 people found this review helpful 3,385 people found this review funny </div> <div class=\"vote_header\"> <div class=\"reviewInfo\"> <div class=\"thumb\"> <img height=\"44\" src=\"https://steamcommunity-a.akamaihd.net/public/shared/images/userreviews/icon_thumbsUp.png?v=1\" width=\"44\"/> </div> <div class=\"title\">Recommended</div> <div class=\"hours\">1,077.1 hrs on record</div> </div> <div style=\"clear: left\"></div> </div> <div class=\"apphub_CardTextContent\"> <div class=\"date_posted\">Posted: June 4, 2017</div> Press 'E' on any chicken and it follows you </div> </div> <div class=\"UserReviewCardContent_Footer\"> <div class=\"gradient\"> </div> </div> </div> <div class=\"apphub_CardContentAuthorBlock tall\"> <div class=\"apphub_friend_block_container\"> <a href=\"https://steamcommunity.com/profiles/76561198338303034/\"> <div class=\"apphub_friend_block\" data-miniprofile=\"378037306\"> <div class=\"appHubIconHolder offline\"><img src=\"https://steamcdn-a.akamaihd.net/steamcommunity/public/images/avatars/08/08c3bdc409f993b89edae8e95c1e98fac90bdcb9.jpg\"/></div> <div class=\"appHubIconHolder greyOverlay\"></div> <div class=\"apphub_CardContentAuthorName offline ellipsis\"><a href=\"https://steamcommunity.com/profiles/76561198338303034/\">Riku</a></div> <div class=\"apphub_CardContentMoreLink ellipsis\">21 products in account</div> </div> </a> </div> <div class=\"apphub_UserReviewCardStats\"> <div class=\"apphub_CardCommentCount alignNews\">88</div> </div> <div style=\"clear: left\"></div> </div> </div><div class=\"apphub_Card modalContentLink interactable\" data-modal-content-sizetofit=\"false\" data-modal-content-url=\"https://steamcommunity.com/id/kysfagxd/recommended/730/\" style=\"display: none\"> <div class=\"apphub_CardContentMain\"> <div class=\"apphub_UserReviewCardContent\"> <div class=\"found_helpful\"> 312 people found this review helpful 195 people found this review funny </div> <div class=\"vote_header\"> <div class=\"reviewInfo\"> <div class=\"thumb\"> <img height=\"44\" src=\"https://steamcommunity-a.akamaihd.net/public/shared/images/userreviews/icon_thumbsUp.png?v=1\" width=\"44\"/> </div> <div class=\"title\">Recommended</div> <div class=\"hours\">2,425.9 hrs on record</div> </div> <div style=\"clear: left\"></div> </div> <div class=\"apphub_CardTextContent\"> <div class=\"date_posted\">Posted: January 5, 2017</div> is game </div> </div> <div class=\"UserReviewCardContent_Footer\"> <div class=\"gradient\"> </div> </div> </div> <div class=\"apphub_CardContentAuthorBlock tall\"> <div class=\"apphub_friend_block_container\"> <a href=\"https://steamcommunity.com/id/kysfagxd/\"> <div class=\"apphub_friend_block\" data-miniprofile=\"192773369\"> <div class=\"appHubIconHolder online\"><img src=\"https://steamcdn-a.akamaihd.net/steamcommunity/public/images/avatars/11/11f552e4477cdfa08a3754362e6abd4bf32971e7.jpg\"/></div> <div class=\"appHubIconHolder greyOverlay\"></div> <div class=\"apphub_CardContentAuthorName online ellipsis\"><a href=\"https://steamcommunity.com/id/kysfagxd/\">Anomaly</a></div> <div class=\"apphub_CardContentMoreLink ellipsis\">95 products in account</div> </div> </a> </div> <div class=\"apphub_UserReviewCardStats\"> <div class=\"apphub_CardCommentCount alignNews\">37</div> </div> <div style=\"clear: left\"></div> </div> </div><div class=\"apphub_Card modalContentLink interactable\" data-modal-content-sizetofit=\"false\" data-modal-content-url=\"https://steamcommunity.com/id/Kremzy/recommended/730/\" style=\"display: none\"> <div class=\"apphub_CardContentMain\"> <div class=\"apphub_UserReviewCardContent\"> <div class=\"found_helpful\"> 668 people found this review helpful 507 people found this review funny </div> <div class=\"vote_header\"> <div class=\"reviewInfo\"> <div class=\"thumb\"> <img height=\"44\" src=\"https://steamcommunity-a.akamaihd.net/public/shared/images/userreviews/icon_thumbsUp.png?v=1\" width=\"44\"/> </div> <div class=\"title\">Recommended</div> <div class=\"hours\">749.3 hrs on record</div> </div> <div style=\"clear: left\"></div> </div> <div class=\"apphub_CardTextContent\"> <div class=\"date_posted\">Posted: May 25</div> Like an abusive relationship, Hate it while you're in it, but miss it when you're gone! </div> </div> <div class=\"UserReviewCardContent_Footer\"> <div class=\"gradient\"> </div> </div> </div> <div class=\"apphub_CardContentAuthorBlock tall\"> <div class=\"apphub_friend_block_container\"> <a href=\"https://steamcommunity.com/id/Kremzy/\"> <div class=\"apphub_friend_block\" data-miniprofile=\"475422927\"> <div class=\"appHubIconHolder offline\"><img src=\"https://steamcdn-a.akamaihd.net/steamcommunity/public/images/avatars/be/be71937c9601510849bfcf6fec1ce2a809368686.jpg\"/></div> <div class=\"appHubIconHolder greyOverlay\"></div> <div class=\"apphub_CardContentAuthorName offline ellipsis\"><a href=\"https://steamcommunity.com/id/Kremzy/\">Kremzy</a></div> <div class=\"apphub_CardContentMoreLink ellipsis\">5 products in account</div> </div> </a> </div> <div class=\"apphub_UserReviewCardStats\"> <div class=\"apphub_CardCommentCount alignNews\">30</div> </div> <div style=\"clear: left\"></div> </div> </div><div class=\"apphub_Card modalContentLink interactable\" data-modal-content-sizetofit=\"false\" data-modal-content-url=\"https://steamcommunity.com/id/jagvillintevarafamous/recommended/730/\" style=\"display: none\"> <div class=\"apphub_CardContentMain\"> <div class=\"apphub_UserReviewCardContent\"> <div class=\"found_helpful\"> 434 people found this review helpful 386 people found this review funny </div> <div class=\"vote_header\"> <div class=\"reviewInfo\"> <div class=\"thumb\"> <img height=\"44\" src=\"https://steamcommunity-a.akamaihd.net/public/shared/images/userreviews/icon_thumbsUp.png?v=1\" width=\"44\"/> </div> <div class=\"title\">Recommended</div> <div class=\"hours\">3,512.2 hrs on record</div> </div> <div style=\"clear: left\"></div> </div> <div class=\"apphub_CardTextContent\"> <div class=\"date_posted\">Posted: March 15, 2014</div> veri gud gaem plei evryday kill trrorists pew pew brep brep </div> </div> <div class=\"UserReviewCardContent_Footer\"> <div class=\"gradient\"> </div> </div> </div> <div class=\"apphub_CardContentAuthorBlock tall\"> <div class=\"apphub_friend_block_container\"> <a href=\"https://steamcommunity.com/id/jagvillintevarafamous/\"> <div class=\"apphub_friend_block\" data-miniprofile=\"30060513\"> <div class=\"appHubIconHolder offline\"><img src=\"https://steamcdn-a.akamaihd.net/steamcommunity/public/images/avatars/0c/0c97410736383d99affaf899dbde4ead158d9ade.jpg\"/></div> <div class=\"appHubIconHolder greyOverlay\"></div> <div class=\"apphub_CardContentAuthorName offline ellipsis\"><a href=\"https://steamcommunity.com/id/jagvillintevarafamous/\">Anomaly CSOFFER.ME</a></div> <div class=\"apphub_CardContentMoreLink ellipsis\">682 products in account</div> </div> </a> </div> <div class=\"apphub_UserReviewCardStats\"> <div class=\"apphub_CardCommentCount alignNews\">47</div> </div> <div style=\"clear: left\"></div> </div> </div><div class=\"apphub_Card modalContentLink interactable\" data-modal-content-sizetofit=\"false\" data-modal-content-url=\"https://steamcommunity.com/id/nickbunyun/recommended/730/\" style=\"display: none\"> <div class=\"apphub_CardContentMain\"> <div class=\"apphub_UserReviewCardContent\"> <div class=\"found_helpful\"> 438 people found this review helpful 147 people found this review funny </div> <div class=\"vote_header\"> <div class=\"reviewInfo\"> <div class=\"thumb\"> <img height=\"44\" src=\"https://steamcommunity-a.akamaihd.net/public/shared/images/userreviews/icon_thumbsUp.png?v=1\" width=\"44\"/> </div> <div class=\"title\">Recommended</div> <div class=\"hours\">3,114.3 hrs on record</div> </div> <div style=\"clear: left\"></div> </div> <div class=\"apphub_CardTextContent\"> <div class=\"date_posted\">Posted: August 9, 2014</div> Best game ever since cs 1.6. </div> </div> <div class=\"UserReviewCardContent_Footer\"> <div class=\"gradient\"> </div> </div> </div> <div class=\"apphub_CardContentAuthorBlock tall\"> <div class=\"apphub_friend_block_container\"> <a href=\"https://steamcommunity.com/id/nickbunyun/\"> <div class=\"apphub_friend_block\" data-miniprofile=\"170947\"> <div class=\"appHubIconHolder offline\"><img src=\"https://steamcdn-a.akamaihd.net/steamcommunity/public/images/avatars/ea/ea89ab83140bc0ae7f435816516e20a8f65db451.jpg\"/></div> <div class=\"appHubIconHolder greyOverlay\"></div> <div class=\"apphub_CardContentAuthorName offline ellipsis\"><a href=\"https://steamcommunity.com/id/nickbunyun/\">Un Lunetist Bătrân</a></div> <div class=\"apphub_CardContentMoreLink ellipsis\">137 products in account</div> </div> </a> </div> <div class=\"apphub_UserReviewCardStats\"> <div class=\"apphub_CardCommentCount alignNews\">70</div> </div> <div style=\"clear: left\"></div> </div> </div><div class=\"apphub_Card modalContentLink interactable\" data-modal-content-sizetofit=\"false\" data-modal-content-url=\"https://steamcommunity.com/profiles/76561198158856532/recommended/730/\" style=\"display: none\"> <div class=\"apphub_CardContentMain\"> <div class=\"apphub_UserReviewCardContent\"> <div class=\"found_helpful\"> 1,312 people found this review helpful 819 people found this review funny </div> <div class=\"vote_header\"> <div class=\"reviewInfo\"> <div class=\"thumb\"> <img height=\"44\" src=\"https://steamcommunity-a.akamaihd.net/public/shared/images/userreviews/icon_thumbsUp.png?v=1\" width=\"44\"/> </div> <div class=\"title\">Recommended</div> <div class=\"hours\">18.0 hrs on record</div> </div> <div style=\"clear: left\"></div> </div> <div class=\"apphub_CardTextContent\"> <div class=\"date_posted\">Posted: December 23, 2017</div> 1. Play as Terrorist 2. Buy p90 and deagle 3. Play Russian hardbass in the background 4.Rush B 5. pidar all the way 6. Profit 7. Repeat 10/10 Who ever find this review useful, I owe you a pint of vodka. </div> </div> <div class=\"UserReviewCardContent_Footer\"> <div class=\"gradient\"> </div> </div> </div> <div class=\"apphub_CardContentAuthorBlock tall\"> <div class=\"apphub_friend_block_container\"> <a href=\"https://steamcommunity.com/profiles/76561198158856532/\"> <div class=\"apphub_friend_block\" data-miniprofile=\"198590804\"> <div class=\"appHubIconHolder offline\"><img src=\"https://steamcdn-a.akamaihd.net/steamcommunity/public/images/avatars/a9/a9e2c67b0d7d6c9deb066ea4cef5c68ff757f251.jpg\"/></div> <div class=\"appHubIconHolder greyOverlay\"></div> <div class=\"apphub_CardContentAuthorName offline ellipsis\"><a href=\"https://steamcommunity.com/profiles/76561198158856532/\">Laserdance</a></div> <div class=\"apphub_CardContentMoreLink ellipsis\">81 products in account</div> </div> </a> </div> <div class=\"apphub_UserReviewCardStats\"> <div class=\"apphub_CardCommentCount alignNews\">56</div> </div> <div style=\"clear: left\"></div> </div> </div><div class=\"apphub_Card modalContentLink interactable\" data-modal-content-sizetofit=\"false\" data-modal-content-url=\"https://steamcommunity.com/profiles/76561198110160497/recommended/730/\" style=\"display: none\"> <div class=\"apphub_CardContentMain\"> <div class=\"apphub_UserReviewCardContent\"> <div class=\"found_helpful\"> 446 people found this review helpful 61 people found this review funny </div> <div class=\"vote_header\"> <div class=\"reviewInfo\"> <div class=\"thumb\"> <img height=\"44\" src=\"https://steamcommunity-a.akamaihd.net/public/shared/images/userreviews/icon_thumbsUp.png?v=1\" width=\"44\"/> </div> <div class=\"title\">Recommended</div> <div class=\"hours\">2,351.5 hrs on record</div> </div> <div style=\"clear: left\"></div> </div> <div class=\"apphub_CardTextContent\"> <div class=\"date_posted\">Posted: May 26</div> You should do something with the cheaters </div> </div> <div class=\"UserReviewCardContent_Footer\"> <div class=\"gradient\"> </div> </div> </div> <div class=\"apphub_CardContentAuthorBlock tall\"> <div class=\"apphub_friend_block_container\"> <a href=\"https://steamcommunity.com/profiles/76561198110160497/\"> <div class=\"apphub_friend_block\" data-miniprofile=\"149894769\"> <div class=\"appHubIconHolder offline\"><img src=\"https://steamcdn-a.akamaihd.net/steamcommunity/public/images/avatars/79/799e6003364074803a5550de4b885769f098548d.jpg\"/></div> <div class=\"appHubIconHolder greyOverlay\"></div> <div class=\"apphub_CardContentAuthorName offline ellipsis\"><a href=\"https://steamcommunity.com/profiles/76561198110160497/\">Guacamole</a></div> <div class=\"apphub_CardContentMoreLink ellipsis\">31 products in account</div> </div> </a> </div> <div class=\"apphub_UserReviewCardStats\"> <div class=\"apphub_CardCommentCount alignNews\">0</div> </div> <div style=\"clear: left\"></div> </div> </div><div class=\"apphub_Card modalContentLink interactable\" data-modal-content-sizetofit=\"false\" data-modal-content-url=\"https://steamcommunity.com/id/therealhashbrick/recommended/730/\" style=\"display: none\"> <div class=\"apphub_CardContentMain\"> <div class=\"apphub_UserReviewCardContent\"> <div class=\"found_helpful\"> 1,304 people found this review helpful 1,655 people found this review funny </div> <div class=\"vote_header\"> <div class=\"reviewInfo\"> <div class=\"thumb\"> <img height=\"44\" src=\"https://steamcommunity-a.akamaihd.net/public/shared/images/userreviews/icon_thumbsUp.png?v=1\" width=\"44\"/> </div> <div class=\"title\">Recommended</div> <div class=\"hours\">891.5 hrs on record</div> </div> <div style=\"clear: left\"></div> </div> <div class=\"apphub_CardTextContent\"> <div class=\"date_posted\">Posted: July 29, 2016</div> Joke review? There's too many, here is the truth. This is the game that: You love to hate You can't sleep at night over You throw things around the room You scream at your monitor You start yelling at people that come in your room and start asking questions You get ridiculed just for playing a match You are cheered on by your team You get flashed by your teammate You meet children You meet adults You meet adults that act like children You learn the term \"tked\" the hard way You are constantly called a kitty cat You are told you are homosexual You are told you are lesbian You are told you will never be a pro despite never trying to be one You are told you will never be a minor despite never trying to be one You are told you will never win a lan despite never trying to enter one You apparently live in your mom's basement You find out your mom has been having some strange relationships You find out your dad has been having some strange relationships You are recommended to drink bleach You learn you are autistic You try to ruin someone's internet/real life You watch people get bans for tking You meet the most terrible people on the internet You meet queued people that just look forward to kicking you before the win (If solo queued) You are held to high degree by your team to clutch everything even 1v4s You learned the term \"clutch or kick\" the hard way You are told you suck even though you have way more kills/kdr than them You are called a hacker for listening to footsteps You are told the bomb is B when it is actually A You pop out of an angle only to get one shotted You hit sweet sweet flicks You can't aim worth♥♥♥♥♥♥br&gt;You hear the classic excuse \"I'm not even trying bro\" You turn racist/culturist You find the DJs You find the soundboard bros You find the most strategic people you will ever meet in a game You realize you are a rage quitter You lash out to other people who lash out to you You try to calm others down You learn the term \"tilted\" You meet people who watch youtube vids and think that's the only way the plan can go You meet people who think the team should die for them so they can get the kills You get screwed from people leaving your team You find people that just like to afk grief and watch your team lose and probably laugh You find people not skilled enough to play their ranks so they throw the match and derank down You get in a match and someone needs to go afk for 5-15mins or leave You play overpass You realize playing overpass was a terrible choice You get connection errors You get screwed over by your IP and get a cooldown ban You meet who lag purposely You win some You lose some You tie some You rank up You rank down You Ace You don't get a kill for a long while You become top fragger You become bottom fragger You go 16-0 You go 0-16 You learn the maps You find out you didn't really learn said maps You find people calling out to help the team You find people with no mics to help out the team You find people with mics that bought the cheapest mic possible But yet in all the madness somehow it is ok.... You get back on the next day and go through the same roll of♥♥♥♥♥♥again and you do it with a smile.. at least when you start. That my friends is a game that will carry on with you forever. </div> </div> <div class=\"UserReviewCardContent_Footer\"> <div class=\"gradient\"> </div> </div> </div> <div class=\"apphub_CardContentAuthorBlock tall\"> <div class=\"apphub_friend_block_container\"> <a href=\"https://steamcommunity.com/id/therealhashbrick/\"> <div class=\"apphub_friend_block\" data-miniprofile=\"27902495\"> <div class=\"appHubIconHolder online\"><img src=\"https://steamcdn-a.akamaihd.net/steamcommunity/public/images/avatars/0d/0dc963c8291f9d5835dd0bf50dc83768339c781a.jpg\"/></div> <div class=\"appHubIconHolder greyOverlay\"></div> <div class=\"apphub_CardContentAuthorName online ellipsis\"><a href=\"https://steamcommunity.com/id/therealhashbrick/\">ManiacMal</a></div> <div class=\"apphub_CardContentMoreLink ellipsis\">5,615 products in account</div> </div> </a> </div> <div class=\"apphub_UserReviewCardStats\"> <div class=\"apphub_CardCommentCount alignNews\">179</div> </div> <div style=\"clear: left\"></div> </div> </div><div class=\"apphub_Card modalContentLink interactable\" data-modal-content-sizetofit=\"false\" data-modal-content-url=\"https://steamcommunity.com/profiles/76561198272317603/recommended/730/\" style=\"display: none\"> <div class=\"apphub_CardContentMain\"> <div class=\"apphub_UserReviewCardContent\"> <div class=\"found_helpful\"> 774 people found this review helpful 382 people found this review funny </div> <div class=\"vote_header\"> <div class=\"reviewInfo\"> <div class=\"thumb\"> <img height=\"44\" src=\"https://steamcommunity-a.akamaihd.net/public/shared/images/userreviews/icon_thumbsUp.png?v=1\" width=\"44\"/> </div> <div class=\"title\">Recommended</div> <div class=\"hours\">495.9 hrs on record</div> </div> <div style=\"clear: left\"></div> </div> <div class=\"apphub_CardTextContent\"> <div class=\"date_posted\">Posted: August 17</div> Very nice game with a cancer community </div> </div> <div class=\"UserReviewCardContent_Footer\"> <div class=\"gradient\"> </div> </div> </div> <div class=\"apphub_CardContentAuthorBlock tall\"> <div class=\"apphub_friend_block_container\"> <a href=\"https://steamcommunity.com/profiles/76561198272317603/\"> <div class=\"apphub_friend_block\" data-miniprofile=\"312051875\"> <div class=\"appHubIconHolder online\"><img src=\"https://steamcdn-a.akamaihd.net/steamcommunity/public/images/avatars/eb/eb380b2f250d99b94ada289d78b48bb2bcada0b8.jpg\"/></div> <div class=\"appHubIconHolder greyOverlay\"></div> <div class=\"apphub_CardContentAuthorName online ellipsis\"><a href=\"https://steamcommunity.com/profiles/76561198272317603/\">Sera</a></div> <div class=\"apphub_CardContentMoreLink ellipsis\">27 products in account</div> </div> </a> </div> <div class=\"apphub_UserReviewCardStats\"> <div class=\"apphub_CardCommentCount alignNews\">0</div> </div> <div style=\"clear: left\"></div> </div> </div> <script> $J(function() { RequestCurrentUserRecommendationVotes( [\"26109315\",\"32191009\",\"29030884\",\"42268293\",\"9487387\",\"11616703\",\"38587748\",\"42293357\",\"24602622\",\"44211313\"] ); } ); </script> </div> <form action=\"https://steamcommunity.com/app/730/homecontent/\" id=\"MoreContentForm1\" method=\"GET\" name=\"MoreContentForm1\"> <input name=\"userreviewsoffset\" type=\"hidden\" value=\"10\"/><input name=\"p\" type=\"hidden\" value=\"2\"/><input name=\"workshopitemspage\" type=\"hidden\" value=\"2\"/><input name=\"readytouseitemspage\" type=\"hidden\" value=\"2\"/><input name=\"mtxitemspage\" type=\"hidden\" value=\"2\"/><input name=\"itemspage\" type=\"hidden\" value=\"2\"/><input name=\"screenshotspage\" type=\"hidden\" value=\"2\"/><input name=\"videospage\" type=\"hidden\" value=\"2\"/><input name=\"artpage\" type=\"hidden\" value=\"2\"/><input name=\"allguidepage\" type=\"hidden\" value=\"2\"/><input name=\"webguidepage\" type=\"hidden\" value=\"2\"/><input name=\"integratedguidepage\" type=\"hidden\" value=\"2\"/><input name=\"discussionspage\" type=\"hidden\" value=\"2\"/><input name=\"numperpage\" type=\"hidden\" value=\"10\"/><input name=\"browsefilter\" type=\"hidden\" value=\"toprated\"/><input name=\"appid\" type=\"hidden\" value=\"730\"/><input name=\"appHubSubSection\" type=\"hidden\" value=\"10\"/> <input name=\"l\" type=\"hidden\" value=\"english\"/> <input name=\"appHubSubSection\" type=\"hidden\" value=\"10\"/> <input name=\"browsefilter\" type=\"hidden\" value=\"toprated\"/> <input name=\"filterLanguage\" type=\"hidden\" value=\"default\"/> <input name=\"searchText\" type=\"hidden\" value=\"\"/> <input name=\"forceanon\" type=\"hidden\" value=\"1\"/> </form></body></html>"
      ]
     },
     "execution_count": 17,
     "metadata": {},
     "output_type": "execute_result"
    }
   ],
   "source": [
    "soup.contents[0]"
   ]
  },
  {
   "cell_type": "code",
   "execution_count": 18,
   "metadata": {},
   "outputs": [],
   "source": [
    "# The parts of the review that we want are the following:\n",
    "# 1) <div class=\"apphub_CardContentMain\"... ==> contains links to the reviewer's profile,\n",
    "#    typically like the following entry: \"onclick=\"ShowModalContent(\n",
    "#    'http://steamcommunity.com/profiles/76561198092689293/recommended/730/?insideModal=1',\n",
    "#    'http://steamcommunity.com/profiles/76561198092689293/recommended/730/',\n",
    "#    'http://steamcommunity.com/profiles/76561198092689293/recommended/730/',false );\"\"\n",
    "#    - these links are notable for the following reasons:\n",
    "#      i) is the number in the link itself the reviwer's ID number? if so, maybe it can be used\n",
    "#         with Steam API...\n",
    "#      ii) if the link is followed, the profile page lists some info that is not included here,\n",
    "#          such as the reviewer's handle (ok, that is included here, but it's a little buried),\n",
    "#          how many hours the reviewer has logged (for the game being reviewed) in the last two\n",
    "#          weeks, whether or not the reviewer is \"recommended\" (at least seemingly), AND any\n",
    "#          resulting discussion prompted by the review, etc.\n",
    "#      iii) ALSO, the link itself can be shortened to lead you to the reviewer's profile page,\n",
    "#           which has a lot of information, such as in-game achievements, level of player\n",
    "#           (how many games owned), location of player (at least sometimes), and a lot more\n",
    "# 2) <div div class=\"found_helpful\"... ==> which will contain the number of people who found the\n",
    "#    review helpful (and the total people who could have rated it (?) and the percentage\n",
    "#    resulting from those two numbers) AND it will also contain the number of people who found\n",
    "#    the review funny. typically, it will look like this \"4,719 of 5,081 people (93%) found this\n",
    "#    review helpful 73 people found this review funny\"\n",
    "\n",
    "# Given the fact that the first part includes the link all we really need to do is get the link,\n",
    "# so let's just try to extract the links\n",
    "review_sections = soup.find_all(\"div\", \"apphub_CardContentMain\")\n",
    "review = review_sections[1]"
   ]
  },
  {
   "cell_type": "code",
   "execution_count": 19,
   "metadata": {},
   "outputs": [
    {
     "data": {
      "text/plain": [
       "10"
      ]
     },
     "execution_count": 19,
     "metadata": {},
     "output_type": "execute_result"
    }
   ],
   "source": [
    "# There should be about 10 such reviews\n",
    "len(review_sections)"
   ]
  },
  {
   "cell_type": "code",
   "execution_count": 20,
   "metadata": {},
   "outputs": [
    {
     "data": {
      "text/plain": [
       "\"   12,052 people found this review helpful 3,385 people found this review funny       Recommended 1,077.1 hrs on record     Posted: June 4, 2017 Press 'E' on any chicken and it follows you    \\xa0  \""
      ]
     },
     "execution_count": 20,
     "metadata": {},
     "output_type": "execute_result"
    }
   ],
   "source": [
    "review.text"
   ]
  },
  {
   "cell_type": "code",
   "execution_count": 21,
   "metadata": {},
   "outputs": [
    {
     "data": {
      "text/plain": [
       "{'class': ['apphub_CardContentMain']}"
      ]
     },
     "execution_count": 21,
     "metadata": {},
     "output_type": "execute_result"
    }
   ],
   "source": [
    "review.attrs"
   ]
  },
  {
   "cell_type": "code",
   "execution_count": 22,
   "metadata": {},
   "outputs": [],
   "source": [
    "# Let's use the attrs attribute to get the list of links\n",
    "#link_str = review.attrs['onclick']\n",
    "#link = link_str.split(' ', 2)[1].strip('\\',')\n",
    "#link"
   ]
  },
  {
   "cell_type": "code",
   "execution_count": 23,
   "metadata": {},
   "outputs": [],
   "source": [
    "link_blocks = list(soup.findAll('div',\n",
    "                                'apphub_Card modalContentLink interactable'))\n",
    "link_block = link_blocks[0]"
   ]
  },
  {
   "cell_type": "code",
   "execution_count": 24,
   "metadata": {},
   "outputs": [
    {
     "data": {
      "text/plain": [
       "'https://steamcommunity.com/profiles/76561198119996056/recommended/730/'"
      ]
     },
     "execution_count": 24,
     "metadata": {},
     "output_type": "execute_result"
    }
   ],
   "source": [
    "review_url = link_block.attrs['data-modal-content-url']\n",
    "review_url_split = review_url.split('/')\n",
    "review_url"
   ]
  },
  {
   "cell_type": "code",
   "execution_count": 25,
   "metadata": {},
   "outputs": [
    {
     "data": {
      "text/plain": [
       "'https://steamcommunity.com/profiles/76561198119996056'"
      ]
     },
     "execution_count": 25,
     "metadata": {},
     "output_type": "execute_result"
    }
   ],
   "source": [
    "profile_url = '/'.join(review_url_split[:5])\n",
    "profile_url"
   ]
  },
  {
   "cell_type": "code",
   "execution_count": 26,
   "metadata": {},
   "outputs": [
    {
     "data": {
      "text/plain": [
       "[' ',\n",
       " <div class=\"apphub_UserReviewCardContent\"> <div class=\"found_helpful\"> 12,052 people found this review helpful 3,385 people found this review funny </div> <div class=\"vote_header\"> <div class=\"reviewInfo\"> <div class=\"thumb\"> <img height=\"44\" src=\"https://steamcommunity-a.akamaihd.net/public/shared/images/userreviews/icon_thumbsUp.png?v=1\" width=\"44\"/> </div> <div class=\"title\">Recommended</div> <div class=\"hours\">1,077.1 hrs on record</div> </div> <div style=\"clear: left\"></div> </div> <div class=\"apphub_CardTextContent\"> <div class=\"date_posted\">Posted: June 4, 2017</div> Press 'E' on any chicken and it follows you </div> </div>,\n",
       " ' ',\n",
       " <div class=\"UserReviewCardContent_Footer\"> <div class=\"gradient\"> </div> </div>,\n",
       " ' ']"
      ]
     },
     "execution_count": 26,
     "metadata": {},
     "output_type": "execute_result"
    }
   ],
   "source": [
    "list(review.children)"
   ]
  },
  {
   "cell_type": "code",
   "execution_count": 27,
   "metadata": {},
   "outputs": [
    {
     "data": {
      "text/plain": [
       "[' ',\n",
       " <div class=\"apphub_UserReviewCardContent\"> <div class=\"found_helpful\"> 12,052 people found this review helpful 3,385 people found this review funny </div> <div class=\"vote_header\"> <div class=\"reviewInfo\"> <div class=\"thumb\"> <img height=\"44\" src=\"https://steamcommunity-a.akamaihd.net/public/shared/images/userreviews/icon_thumbsUp.png?v=1\" width=\"44\"/> </div> <div class=\"title\">Recommended</div> <div class=\"hours\">1,077.1 hrs on record</div> </div> <div style=\"clear: left\"></div> </div> <div class=\"apphub_CardTextContent\"> <div class=\"date_posted\">Posted: June 4, 2017</div> Press 'E' on any chicken and it follows you </div> </div>,\n",
       " ' ',\n",
       " <div class=\"found_helpful\"> 12,052 people found this review helpful 3,385 people found this review funny </div>,\n",
       " ' 12,052 people found this review helpful 3,385 people found this review funny ',\n",
       " ' ',\n",
       " <div class=\"vote_header\"> <div class=\"reviewInfo\"> <div class=\"thumb\"> <img height=\"44\" src=\"https://steamcommunity-a.akamaihd.net/public/shared/images/userreviews/icon_thumbsUp.png?v=1\" width=\"44\"/> </div> <div class=\"title\">Recommended</div> <div class=\"hours\">1,077.1 hrs on record</div> </div> <div style=\"clear: left\"></div> </div>,\n",
       " ' ',\n",
       " <div class=\"reviewInfo\"> <div class=\"thumb\"> <img height=\"44\" src=\"https://steamcommunity-a.akamaihd.net/public/shared/images/userreviews/icon_thumbsUp.png?v=1\" width=\"44\"/> </div> <div class=\"title\">Recommended</div> <div class=\"hours\">1,077.1 hrs on record</div> </div>,\n",
       " ' ',\n",
       " <div class=\"thumb\"> <img height=\"44\" src=\"https://steamcommunity-a.akamaihd.net/public/shared/images/userreviews/icon_thumbsUp.png?v=1\" width=\"44\"/> </div>,\n",
       " ' ',\n",
       " <img height=\"44\" src=\"https://steamcommunity-a.akamaihd.net/public/shared/images/userreviews/icon_thumbsUp.png?v=1\" width=\"44\"/>,\n",
       " ' ',\n",
       " ' ',\n",
       " <div class=\"title\">Recommended</div>,\n",
       " 'Recommended',\n",
       " ' ',\n",
       " <div class=\"hours\">1,077.1 hrs on record</div>,\n",
       " '1,077.1 hrs on record',\n",
       " ' ',\n",
       " ' ',\n",
       " <div style=\"clear: left\"></div>,\n",
       " ' ',\n",
       " ' ',\n",
       " <div class=\"apphub_CardTextContent\"> <div class=\"date_posted\">Posted: June 4, 2017</div> Press 'E' on any chicken and it follows you </div>,\n",
       " ' ',\n",
       " <div class=\"date_posted\">Posted: June 4, 2017</div>,\n",
       " 'Posted: June 4, 2017',\n",
       " \" Press 'E' on any chicken and it follows you \",\n",
       " ' ',\n",
       " ' ',\n",
       " <div class=\"UserReviewCardContent_Footer\"> <div class=\"gradient\"> </div> </div>,\n",
       " ' ',\n",
       " <div class=\"gradient\"> </div>,\n",
       " '\\xa0',\n",
       " ' ',\n",
       " ' ']"
      ]
     },
     "execution_count": 27,
     "metadata": {},
     "output_type": "execute_result"
    }
   ],
   "source": [
    "list(review.descendants)"
   ]
  },
  {
   "cell_type": "code",
   "execution_count": 28,
   "metadata": {},
   "outputs": [
    {
     "data": {
      "text/plain": [
       "\" ,,, ,,, 12,052 people found this review helpful 3,385 people found this review funny ,,, ,,, ,,, ,,, ,,, ,,, ,,,Recommended,,, ,,,1,077.1 hrs on record,,, ,,, ,,, ,,, ,,, ,,,Posted: June 4, 2017,,, Press 'E' on any chicken and it follows you ,,, ,,, ,,, ,,,\\xa0,,, ,,, \""
      ]
     },
     "execution_count": 28,
     "metadata": {},
     "output_type": "execute_result"
    }
   ],
   "source": [
    "review.getText(separator=\",,,\")"
   ]
  },
  {
   "cell_type": "code",
   "execution_count": 29,
   "metadata": {},
   "outputs": [
    {
     "data": {
      "text/plain": [
       "['12,052 people found this review helpful 3,385 people found this review funny',\n",
       " 'Recommended',\n",
       " '1,077.1 hrs on record',\n",
       " 'Posted: June 4, 2017',\n",
       " \"Press 'E' on any chicken and it follows you\"]"
      ]
     },
     "execution_count": 29,
     "metadata": {},
     "output_type": "execute_result"
    }
   ],
   "source": [
    "stripped_strings = list(review.stripped_strings)\n",
    "stripped_strings"
   ]
  },
  {
   "cell_type": "code",
   "execution_count": 30,
   "metadata": {},
   "outputs": [
    {
     "data": {
      "text/plain": [
       "[5, 5, 5, 5, 5, 5, 5, 5, 5, 5]"
      ]
     },
     "execution_count": 30,
     "metadata": {},
     "output_type": "execute_result"
    }
   ],
   "source": [
    "[len(list(review_sections[i].stripped_strings)) for i in range(10)]"
   ]
  },
  {
   "cell_type": "code",
   "execution_count": 31,
   "metadata": {},
   "outputs": [
    {
     "data": {
      "text/plain": [
       "['446 people found this review helpful 61 people found this review funny',\n",
       " 'Recommended',\n",
       " '2,351.5 hrs on record',\n",
       " 'Posted: May 26',\n",
       " 'You should do something with the cheaters']"
      ]
     },
     "execution_count": 31,
     "metadata": {},
     "output_type": "execute_result"
    }
   ],
   "source": [
    "list(review_sections[-3].stripped_strings)"
   ]
  },
  {
   "cell_type": "code",
   "execution_count": 32,
   "metadata": {},
   "outputs": [
    {
     "data": {
      "text/plain": [
       "['1,703 of 1,977 people (86%) found this review helpful 1 person found this review funny',\n",
       " 'Recommended',\n",
       " '598.1 hrs on record',\n",
       " 'Posted: January 17, 2014',\n",
       " \"I've tried Rosetta Stone, duolingo, and even college classes, but nothing has taught me Russian or Brazilian better than this! And it's free!\",\n",
       " '76 products in account',\n",
       " '21']"
      ]
     },
     "execution_count": 32,
     "metadata": {},
     "output_type": "execute_result"
    }
   ],
   "source": [
    "# Aberrant example that was found in a different review\n",
    "stripped_strings2 = ['1,703 of 1,977 people (86%) found this review helpful 1 person found this review funny', 'Recommended', '598.1 hrs on record', 'Posted: January 17, 2014', \"I've tried Rosetta Stone, duolingo, and even college classes, but nothing has taught me Russian or Brazilian better than this! And it's free!\", '76 products in account', '21']\n",
    "stripped_strings2\n",
    "# It turns out that this review does not contain the user-name, so there's one less\n",
    "# string in the list (hopefully, this review will be rejected due to the fact that\n",
    "# it doesn't contain enough elements)"
   ]
  },
  {
   "cell_type": "code",
   "execution_count": 33,
   "metadata": {},
   "outputs": [
    {
     "data": {
      "text/plain": [
       "<_sre.SRE_Match object; span=(10, 16), match=', 2014'>"
      ]
     },
     "execution_count": 33,
     "metadata": {},
     "output_type": "execute_result"
    }
   ],
   "source": [
    "re.search(r', \\d{4}$', 'January 17, 2014')"
   ]
  },
  {
   "cell_type": "code",
   "execution_count": 34,
   "metadata": {},
   "outputs": [
    {
     "data": {
      "text/plain": [
       "17"
      ]
     },
     "execution_count": 34,
     "metadata": {},
     "output_type": "execute_result"
    }
   ],
   "source": [
    "# Let's try to parse the date\n",
    "from dateutil import parser\n",
    "date = parser.parse('January 17, 2014')\n",
    "date.day"
   ]
  },
  {
   "cell_type": "code",
   "execution_count": 35,
   "metadata": {},
   "outputs": [
    {
     "data": {
      "text/plain": [
       "['805 of 962 people (84%) found this review helpful',\n",
       " 'Recommended',\n",
       " '682.5 hrs on record',\n",
       " 'Posted: January 22, 2014',\n",
       " 'K I N T E R',\n",
       " '77 products in account',\n",
       " '1']"
      ]
     },
     "execution_count": 35,
     "metadata": {},
     "output_type": "execute_result"
    }
   ],
   "source": [
    "# Aberrant review: no review text!\n",
    "stripped_strings3 = ['805 of 962 people (84%) found this review helpful', 'Recommended', '682.5 hrs on record', 'Posted: January 22, 2014', 'K I N T E R', '77 products in account', '1']\n",
    "stripped_strings3"
   ]
  },
  {
   "cell_type": "code",
   "execution_count": 36,
   "metadata": {},
   "outputs": [],
   "source": [
    "# Given the stripped_strings attribute, the relevant information can be extracted\n",
    "# exceedingly easily\n",
    "helpful_funny = stripped_strings[0]\n",
    "recommended = stripped_strings[1]\n",
    "hours = re.sub(r',',\n",
    "               r'',\n",
    "               stripped_strings[2].split()[0])\n",
    "date_posted = stripped_strings[3][8:]\n",
    "review = stripped_strings[4]\n",
    "#products_in_account = stripped_strings[6].split()[0]"
   ]
  },
  {
   "cell_type": "code",
   "execution_count": 37,
   "metadata": {},
   "outputs": [
    {
     "data": {
      "text/plain": [
       "'Recommended'"
      ]
     },
     "execution_count": 37,
     "metadata": {},
     "output_type": "execute_result"
    }
   ],
   "source": [
    "recommended"
   ]
  },
  {
   "cell_type": "code",
   "execution_count": 38,
   "metadata": {},
   "outputs": [
    {
     "ename": "ValueError",
     "evalue": "could not convert string to float: 'found'",
     "output_type": "error",
     "traceback": [
      "\u001b[0;31m---------------------------------------------------------------------------\u001b[0m",
      "\u001b[0;31mValueError\u001b[0m                                Traceback (most recent call last)",
      "\u001b[0;32m<ipython-input-38-762925bc169d>\u001b[0m in \u001b[0;36m<module>\u001b[0;34m()\u001b[0m\n\u001b[1;32m      7\u001b[0m                                   \u001b[0;34mr''\u001b[0m\u001b[0;34m,\u001b[0m\u001b[0;34m\u001b[0m\u001b[0m\n\u001b[1;32m      8\u001b[0m                                   helpful[2])\n\u001b[0;32m----> 9\u001b[0;31m \u001b[0mhelpful_percentage\u001b[0m \u001b[0;34m=\u001b[0m \u001b[0mfloat\u001b[0m\u001b[0;34m(\u001b[0m\u001b[0mfound_helpful\u001b[0m\u001b[0;34m)\u001b[0m\u001b[0;34m/\u001b[0m\u001b[0mfloat\u001b[0m\u001b[0;34m(\u001b[0m\u001b[0mtotal_helpful_candidates\u001b[0m\u001b[0;34m)\u001b[0m\u001b[0;34m\u001b[0m\u001b[0m\n\u001b[0m\u001b[1;32m     10\u001b[0m print(\"found helpful: {}\\ntotal people that could have found it helpful: {}\"\n\u001b[1;32m     11\u001b[0m       \u001b[0;34m\"\\npercentage of people who found the review helpful: \"\u001b[0m\u001b[0;34m\u001b[0m\u001b[0m\n",
      "\u001b[0;31mValueError\u001b[0m: could not convert string to float: 'found'"
     ]
    }
   ],
   "source": [
    "helpful = helpful_funny.split()[:9]\n",
    "funny = helpful_funny.split()[9:]\n",
    "found_helpful = re.sub(r',',\n",
    "                       r'',\n",
    "                       helpful[0])\n",
    "total_helpful_candidates = re.sub(r',',\n",
    "                                  r'',\n",
    "                                  helpful[2])\n",
    "helpful_percentage = float(found_helpful)/float(total_helpful_candidates)\n",
    "print(\"found helpful: {}\\ntotal people that could have found it helpful: {}\"\n",
    "      \"\\npercentage of people who found the review helpful: \"\n",
    "      \"{}%\".format(found_helpful,\n",
    "                   total_helpful_candidates,\n",
    "                   helpful_percentage))\n",
    "\n",
    "found_funny = funny[0]\n",
    "print(\"found review funny: {}\".format(found_funny))"
   ]
  },
  {
   "cell_type": "code",
   "execution_count": null,
   "metadata": {},
   "outputs": [],
   "source": [
    "date_posted += ', 2015'"
   ]
  },
  {
   "cell_type": "code",
   "execution_count": null,
   "metadata": {},
   "outputs": [],
   "source": [
    "date_posted"
   ]
  },
  {
   "cell_type": "code",
   "execution_count": null,
   "metadata": {},
   "outputs": [],
   "source": [
    "#products_in_account"
   ]
  },
  {
   "cell_type": "code",
   "execution_count": null,
   "metadata": {},
   "outputs": [],
   "source": [
    "# Let's define a dictionary with all of the stuff that's being collected\n",
    "review_dict = dict(review_url=review_url,\n",
    "                   profile_url=profile_url,\n",
    "                   recommended=recommended,\n",
    "                   hours=hours,\n",
    "                   date_posted=date_posted,\n",
    "                   review=review,\n",
    "                   #products_in_account=products_in_account,\n",
    "                   found_helpful=found_helpful,\n",
    "                   total_found_helpful_candidates=total_helpful_candidates,\n",
    "                   found_helpful_percentage=helpful_percentage,\n",
    "                   found_funny=found_funny)\n",
    "review_dict"
   ]
  },
  {
   "cell_type": "code",
   "execution_count": null,
   "metadata": {},
   "outputs": [],
   "source": [
    "# Now, let's go to the review link and the profile link and collect other info\n",
    "review_dict['steam_id_number'] = review_dict['review_url'].split('/')[4]\n",
    "review_dict['profile_url'] = 'http://steamcommunity.com/profiles/{}'.format(review_dict['steam_id_number'])\n",
    "review_dict\n",
    "# Note the profule url actually cannot be constructed in this way all the time:\n",
    "# sometimes a shortened form of the user-name is used in place of the ID number\n",
    "# AND instead of the word \"profiles\" \"id\" is used in the URL. Due to this, it is\n",
    "# probably a better idea to get the profile URL directly from the link that is\n",
    "# provided rather than try to construct it."
   ]
  },
  {
   "cell_type": "code",
   "execution_count": null,
   "metadata": {},
   "outputs": [],
   "source": [
    "review_page = requests.get(review_dict['review_url'])\n",
    "profile_page = requests.get(review_dict['profile_url'])\n",
    "review_page_html = review_page.text\n",
    "profile_page_html = profile_page.text\n",
    "# Preprocess HTML\n",
    "review_page_html = re.sub(r'\\<br\\>',\n",
    "                          r' ',\n",
    "                          review_page_html)\n",
    "review_page_html = re.sub(r'[\\n\\t\\r ]+',\n",
    "                          r' ',\n",
    "                          review_page_html)\n",
    "review_page_html = review_page_html.strip()\n",
    "profile_page_html = re.sub(r'\\<br\\>',\n",
    "                           r' ',\n",
    "                           profile_page_html)\n",
    "profile_page_html = re.sub(r'[\\n\\t\\r ]+',\n",
    "                           r' ',\n",
    "                           profile_page_html)\n",
    "profile_page_html = profile_page_html.strip()"
   ]
  },
  {
   "cell_type": "code",
   "execution_count": null,
   "metadata": {},
   "outputs": [],
   "source": [
    "# Now use BeautifulSoup to parse the HTML\n",
    "review_soup = BeautifulSoup(review_page_html, \"lxml\")\n",
    "profile_soup = BeautifulSoup(profile_page_html, \"lxml\")"
   ]
  },
  {
   "cell_type": "code",
   "execution_count": null,
   "metadata": {},
   "outputs": [],
   "source": [
    "# Let's take a look first at the review page and see if there's anything there that\n",
    "# can be collected\n",
    "review_soup.contents"
   ]
  },
  {
   "cell_type": "code",
   "execution_count": null,
   "metadata": {},
   "outputs": [],
   "source": [
    "review2_page = requests.get('http://steamcommunity.com/id/ernestmurdertrain/recommended/10/')\n",
    "review2_page_html = review2_page.text\n",
    "review2_page_html = re.sub(r'\\<br\\>',\n",
    "                           r' ',\n",
    "                           review2_page_html)\n",
    "review2_page_html = review2_page_html.strip()\n",
    "review2_soup = BeautifulSoup(review2_page_html, \"lxml\")\n",
    "\n",
    "review3_page = requests.get('http://steamcommunity.com/id/LS1337/recommended/10/')\n",
    "review3_page_html = review3_page.text\n",
    "review3_page_html = re.sub(r'\\<br\\>',\n",
    "                           r' ',\n",
    "                           review3_page_html)\n",
    "review3_page_html = review3_page_html.strip()\n",
    "review3_soup = BeautifulSoup(review3_page_html, \"lxml\")"
   ]
  },
  {
   "cell_type": "code",
   "execution_count": null,
   "metadata": {},
   "outputs": [],
   "source": [
    "comment_match_1 = re.search(r'<span id=\"commentthread[^<]+',\n",
    "                            review3_page_html)"
   ]
  },
  {
   "cell_type": "code",
   "execution_count": null,
   "metadata": {},
   "outputs": [],
   "source": [
    "comment_match_2 = re.search(r'>(\\d*)$',\n",
    "                            comment_match_1.group())"
   ]
  },
  {
   "cell_type": "code",
   "execution_count": null,
   "metadata": {},
   "outputs": [],
   "source": [
    "comment_match_2.groups()[0].strip()"
   ]
  },
  {
   "cell_type": "code",
   "execution_count": null,
   "metadata": {},
   "outputs": [],
   "source": [
    "username_span = review_soup.find('span', 'profile_small_header_name')\n",
    "review_dict['username'] = username_span.string\n",
    "review_dict"
   ]
  },
  {
   "cell_type": "code",
   "execution_count": null,
   "metadata": {},
   "outputs": [],
   "source": [
    "# Now let's get the number of hours the reviewer has played in the last 2 weeks\n",
    "last_2_weeks_hours_div = review_soup.find('div', 'playTime')\n",
    "review_dict['hours_last_2_weeks'] = re.sub(r',',\n",
    "                                           r'',\n",
    "                                           last_2_weeks_hours_div.string.split()[0])\n",
    "review_dict"
   ]
  },
  {
   "cell_type": "code",
   "execution_count": null,
   "metadata": {},
   "outputs": [],
   "source": [
    "rating_summary_block_list = list(review_soup.find('div', 'ratingSummaryBlock'))\n",
    "rating_summary_block_list"
   ]
  },
  {
   "cell_type": "code",
   "execution_count": null,
   "metadata": {},
   "outputs": [],
   "source": [
    "rating_summary_block_list[7].string.strip()"
   ]
  },
  {
   "cell_type": "code",
   "execution_count": null,
   "metadata": {},
   "outputs": [],
   "source": [
    "list(review3_soup.find('div', 'ratingSummaryBlock'))"
   ]
  },
  {
   "cell_type": "code",
   "execution_count": null,
   "metadata": {},
   "outputs": [],
   "source": [
    "SPACE = re.compile(r'[\\s]+')"
   ]
  },
  {
   "cell_type": "code",
   "execution_count": null,
   "metadata": {},
   "outputs": [],
   "source": [
    "date_posted_str = SPACE.sub(' ',\n",
    "                            list(review2_soup\n",
    "                                 .find('div', 'ratingSummaryBlock'))[7]\n",
    "                            .string\n",
    "                            .strip()[8:]).split(' Updated: ')\n",
    "date_posted_str"
   ]
  },
  {
   "cell_type": "code",
   "execution_count": null,
   "metadata": {},
   "outputs": [],
   "source": [
    "'Sep 9, 2014 @ 12:32pm'.split(' Updated: ')"
   ]
  },
  {
   "cell_type": "code",
   "execution_count": null,
   "metadata": {},
   "outputs": [],
   "source": [
    "list(review3_soup.find('div', 'ratingSummaryBlock'))"
   ]
  },
  {
   "cell_type": "code",
   "execution_count": null,
   "metadata": {},
   "outputs": [],
   "source": [
    "recommended_alternate = rating_summary_block_list[3].string\n",
    "recommended_alternate"
   ]
  },
  {
   "cell_type": "code",
   "execution_count": null,
   "metadata": {},
   "outputs": [],
   "source": [
    "date_str = rating_summary_block_list[7].string.strip()[8:]\n",
    "date_str"
   ]
  },
  {
   "cell_type": "code",
   "execution_count": null,
   "metadata": {},
   "outputs": [],
   "source": [
    "date, time = tuple([x.strip() for x in date_str.split('@')])"
   ]
  },
  {
   "cell_type": "code",
   "execution_count": null,
   "metadata": {},
   "outputs": [],
   "source": [
    "time = time.upper()\n",
    "time"
   ]
  },
  {
   "cell_type": "code",
   "execution_count": null,
   "metadata": {},
   "outputs": [],
   "source": [
    "date"
   ]
  },
  {
   "cell_type": "code",
   "execution_count": null,
   "metadata": {},
   "outputs": [],
   "source": [
    "time = '{} {}'.format(time[:-2],\n",
    "                      time[-2:])\n",
    "time"
   ]
  },
  {
   "cell_type": "code",
   "execution_count": null,
   "metadata": {},
   "outputs": [],
   "source": [
    "date_posted = '{}, {}'.format(date,\n",
    "                              time)\n",
    "date_posted"
   ]
  },
  {
   "cell_type": "code",
   "execution_count": null,
   "metadata": {},
   "outputs": [],
   "source": [
    "hours_str = rating_summary_block_list[5].string\n",
    "hours_str"
   ]
  },
  {
   "cell_type": "code",
   "execution_count": null,
   "metadata": {},
   "outputs": [],
   "source": [
    "(hours_last_two_weeks_str,\n",
    " hours_total_str) = tuple([x.strip() for x\n",
    "                           in hours_str.split('/')])\n",
    "hours_last_two_weeks_str"
   ]
  },
  {
   "cell_type": "code",
   "execution_count": null,
   "metadata": {},
   "outputs": [],
   "source": [
    "hours_total_str"
   ]
  },
  {
   "cell_type": "code",
   "execution_count": null,
   "metadata": {},
   "outputs": [],
   "source": [
    "comment_count_str = re.search(r'<span id=\"commentthread[^<]+',\n",
    "                              review_page_html)"
   ]
  },
  {
   "cell_type": "code",
   "execution_count": null,
   "metadata": {},
   "outputs": [],
   "source": [
    "comment_count_str = re.search(r'>(\\d*)$',\n",
    "                              comment_count_str.group())\n",
    "comment_count_str.groups()[0]"
   ]
  },
  {
   "cell_type": "code",
   "execution_count": null,
   "metadata": {},
   "outputs": [],
   "source": [
    "# Note: We could try to collect the comment text, but it's a little complicated\n",
    "# due to the fact that comments could stretch across multiple pages (10 per page)\n",
    "# We will just save this for a later time since it's unclear if this data would\n",
    "# be useful, anyway."
   ]
  },
  {
   "cell_type": "code",
   "execution_count": null,
   "metadata": {},
   "outputs": [],
   "source": [
    "# Now let's try to look at the profile page and collect data from there"
   ]
  },
  {
   "cell_type": "code",
   "execution_count": null,
   "metadata": {},
   "outputs": [],
   "source": [
    "profile_soup.contents"
   ]
  },
  {
   "cell_type": "code",
   "execution_count": null,
   "metadata": {},
   "outputs": [],
   "source": [
    "# First, we can get the player's \"level\" (not exactly sure what the level pertains\n",
    "# to, but we'll try to find out later)\n",
    "review_dict['friend_player_level'] = profile_soup.find('div', 'friendPlayerLevel').string\n",
    "review_dict"
   ]
  },
  {
   "cell_type": "code",
   "execution_count": null,
   "metadata": {},
   "outputs": [],
   "source": [
    "# Let's collect the game achievements summary data\n",
    "achievements_string_split = list(profile_soup.find('span',\n",
    "                                                   'game_info_achievement_summary').stripped_strings)[1].split()\n",
    "review_dict['achievement_progress'] = dict(achievements=achievements_string_split[0],\n",
    "                                           total_achievements_possible=achievements_string_split[2])\n",
    "review_dict"
   ]
  },
  {
   "cell_type": "code",
   "execution_count": null,
   "metadata": {},
   "outputs": [],
   "source": [
    "# We can also collect the total number of badges the player has\n",
    "review_dict['num_badges'] = list(profile_soup.find('div', 'profile_badges').stripped_strings)[1]\n",
    "review_dict"
   ]
  },
  {
   "cell_type": "code",
   "execution_count": null,
   "metadata": {},
   "outputs": [],
   "source": [
    "items = list(profile_soup.find('div', 'profile_item_links').stripped_strings)\n",
    "items"
   ]
  },
  {
   "cell_type": "code",
   "execution_count": null,
   "metadata": {},
   "outputs": [],
   "source": [
    "# Other review had the following profile_item_links stripped strings value, which\n",
    "# has a very different look to it\n",
    "profile_item_links = ['Games', '49', 'Workshop Items', '3', 'Reviews', '2', 'Guides', '2', 'Inventory']"
   ]
  },
  {
   "cell_type": "code",
   "execution_count": null,
   "metadata": {},
   "outputs": [],
   "source": [
    "# So, we will have to come up with a different way of dealing with the values, like\n",
    "# this:\n",
    "iter_items = iter(profile_item_links)\n",
    "dict(zip(iter_items,\n",
    "         iter_items))"
   ]
  },
  {
   "cell_type": "code",
   "execution_count": null,
   "metadata": {},
   "outputs": [],
   "source": [
    "# Let's also collect the total number of reviews and screenshots (total number of\n",
    "# games is also available, but it is the same as that stored under the\n",
    "# products_in_account key)\n",
    "profile_counts = list(profile_soup.find('div', 'profile_item_links').stripped_strings)\n",
    "review_dict['num_screenshots'] = profile_counts[3]\n",
    "review_dict['num_reviews'] = profile_counts[5]\n",
    "review_dict"
   ]
  },
  {
   "cell_type": "code",
   "execution_count": null,
   "metadata": {},
   "outputs": [],
   "source": [
    "# Finally, let's get the number of groups the reviewer is a member of and the\n",
    "# number of friends the reviewer has on Steam\n",
    "group_counts = list(profile_soup.find('div', 'profile_group_links').stripped_strings)\n",
    "review_dict['num_groups'] = group_counts[1]\n",
    "review_dict"
   ]
  },
  {
   "cell_type": "code",
   "execution_count": null,
   "metadata": {},
   "outputs": [],
   "source": [
    "friend_counts = list(profile_soup.find('div', 'profile_friend_links').stripped_strings)\n",
    "review_dict['num_friends'] = friend_counts[1]\n",
    "review_dict"
   ]
  },
  {
   "cell_type": "code",
   "execution_count": null,
   "metadata": {},
   "outputs": [],
   "source": [
    "import sys\n",
    "try:\n",
    "    profile_soup.find('div', 'profile_friend_links').stripped_strings\n",
    "    int(\"t\")\n",
    "except (AttributeError,\n",
    "        ValueError) as e:\n",
    "    print(e)"
   ]
  },
  {
   "cell_type": "code",
   "execution_count": null,
   "metadata": {},
   "outputs": [],
   "source": [
    "# Now that we have figured out a way to collect a lot of data, let's create a\n",
    "# function that will automatically create dictionaries like the one above"
   ]
  },
  {
   "cell_type": "code",
   "execution_count": null,
   "metadata": {},
   "outputs": [],
   "source": [
    "# Will need to make use of the UnicodeDammit method in teh bs4\n",
    "# (BeautifulSoup) because some of the reviews/HTML source contains\n",
    "# text in a non-ascii encoding\n",
    "# I won't get too much into this, just know that it's often an issue and\n",
    "# that we can deal with it by trying a to decode a text with a lot of\n",
    "# different encoding and then re-encode it to ascii\n",
    "# We will also be making use of the sys module, which is part of the\n",
    "# standard library\n",
    "# One other module we will need to make use of is the time module, another\n",
    "# standard library module that allows us to make a program wait for a bit\n",
    "# before moving on, which I'll talk about it in a minute\n",
    "# These are the codecs that we will try to decode the HTML with. I'm\n",
    "# probably going a little overboard, but I like to be exhaustive\n",
    "codecs = [\"windows-1252\", \"utf8\", \"ascii\", \"cp500\", \"cp850\", \"cp852\",\n",
    "          \"cp858\", \"cp1140\", \"cp1250\", \"iso-8859-1\", \"iso8859_2\",\n",
    "          \"iso8859_15\", \"iso8859_16\", \"mac_roman\", \"mac_latin2\", \"utf32\",\n",
    "          \"utf16\"]"
   ]
  },
  {
   "cell_type": "code",
   "execution_count": 40,
   "metadata": {},
   "outputs": [],
   "source": [
    "# Imports\n",
    "import re\n",
    "import sys\n",
    "import time\n",
    "import requests\n",
    "from bs4 import (BeautifulSoup,\n",
    "                 UnicodeDammit)\n",
    "\n",
    "# Define a couple useful regular expressions\n",
    "SPACE = re.compile(r'[\\s]+')\n",
    "BREAKS_REGEX = re.compile(r'\\<br\\>')\n",
    "COMMA = re.compile(r',')\n",
    "\n",
    "# Codecs for use with UnicodeDammit\n",
    "codecs = [\"windows-1252\", \"utf8\", \"ascii\", \"cp500\", \"cp850\", \"cp852\",\n",
    "          \"cp858\", \"cp1140\", \"cp1250\", \"iso-8859-1\", \"iso8859_2\",\n",
    "          \"iso8859_15\", \"iso8859_16\", \"mac_roman\", \"mac_latin2\", \"utf32\",\n",
    "          \"utf16\"]\n",
    "\n",
    "def get_review_data_for_game(appid, time_out=0.5, limit=0, sleep=10):\n",
    "    '''\n",
    "    Generate dictionaries for each review for a given game.\n",
    "\n",
    "    The dictionaries will contain keys for the review text, the reviewer ID,\n",
    "    the reviewer's user-name, the number of friends the reviewer has, the\n",
    "    the number of reviews the reviewer has written, and much more.\n",
    "\n",
    "    :param appid: ID corresponding to a given game\n",
    "    :type appid: str\n",
    "    :param timeout: amount of time allowed to go by without hearing\n",
    "                    response while using requests.get() method\n",
    "    :type timeout: float\n",
    "    :param limit: the maximum number of reviews to collect\n",
    "    :type limit: int (default: 0, which signifies all)\n",
    "    :param sleep: amount of time to wait between reading different pages on\n",
    "                  Steam\n",
    "    :type sleep: int/float\n",
    "    :yields: dictionary with keys for various pieces of data related to a\n",
    "             single review, including the review itself, the number of hours\n",
    "             the reviewer has played the game, etc.\n",
    "    '''\n",
    "\n",
    "    if limit == 0:\n",
    "        limit = -1\n",
    "    range_begin = 0\n",
    "    i = 1\n",
    "    reviews_count = 0\n",
    "    while True:\n",
    "        # Get unique URL for values of range_begin and i\n",
    "        base_url = 'http://steamcommunity.com/app/{2}/homecontent/?user' \\\n",
    "                   'reviewsoffset={0}&p=1&itemspage={1}&screenshotspage' \\\n",
    "                   '={1}&videospage={1}&artpage={1}&allguidepage={1}&web' \\\n",
    "                   'guidepage={1}&integratedguidepage={1}&discussionspage' \\\n",
    "                   '={1}&appid={2}&appHubSubSection=10&appHubSubSection=' \\\n",
    "                   '10&l=english&browsefilter=toprated&filterLanguage=' \\\n",
    "                   'default&searchText=&forceanon=1'.format(range_begin,\n",
    "                                                            i,\n",
    "                                                            appid)\n",
    "        # Get the URL content\n",
    "        base_page = None\n",
    "        time.sleep(sleep)\n",
    "        # Get the HTML page; if there's a timeout error, then catch it and\n",
    "        # exit out of the loop, effectively ending the function.\n",
    "        try:\n",
    "            base_page = requests.get(base_url,\n",
    "                                     timeout=time_out)\n",
    "        except requests.exceptions.Timeout as e:\n",
    "            print(\"There was a Timeout error...\")\n",
    "            break\n",
    "        # If there's nothing at this URL, page might have no value at all,\n",
    "        # in which case we should break out of the loop\n",
    "        # Another situation where we'd want to exit from the loop is if the\n",
    "        # page.text contains only an empty string or a string that has only\n",
    "        # a sequence of one or more spaces\n",
    "        if not base_page:\n",
    "            break\n",
    "        elif not base_page.text.strip():\n",
    "            break\n",
    "        # Preprocess the HTML source, getting rid of \"<br>\" tags and\n",
    "        # replacing any sequence of one or more carriage returns or\n",
    "        # whitespace characters with a single space\n",
    "        base_html = SPACE.sub(r' ',\n",
    "                              BREAKS_REGEX.sub(r' ',\n",
    "                                               base_page.text.strip()))\n",
    "        # Try to decode the HTML to unicode and then re-encode the text\n",
    "        # with ASCII, ignoring any characters that can't be represented\n",
    "        # with ASCII\n",
    "        base_html = UnicodeDammit(base_html,\n",
    "                                  codecs).unicode_markup.encode('ascii',\n",
    "                                                                'ignore')\n",
    "\n",
    "        # Parse the source HTML with BeautifulSoup\n",
    "        source_soup = BeautifulSoup(base_html,\n",
    "                                    'lxml')\n",
    "        reviews = source_soup.find_all('div',\n",
    "                                'apphub_Card interactable') #Change soup -> source_soup\n",
    "\n",
    "        # Iterate over the reviews in the source HTML and find data for\n",
    "        # each review, yielding a dictionary\n",
    "        for review in reviews:\n",
    "\n",
    "            # Get links to review URL, profile URL, Steam ID number\n",
    "            review_url = review.attrs['onclick'].split(' ',\n",
    "                                                       2)[1].strip(\"',\")\n",
    "            review_url_split = review_url.split('/')\n",
    "            steam_id_number = review_url_split[4]\n",
    "            profile_url = '/'.join(review_url_split[:5])\n",
    "\n",
    "            # Get other data within the base reviews page\n",
    "            stripped_strings = list(review.stripped_strings)\n",
    "            # Parsing the HTML in this way depends on stripped_strings\n",
    "            # having a length of at least 8\n",
    "            if len(stripped_strings) >= 8:\n",
    "                print(stripped_strings)\n",
    "                # Extracting data from the text that supplies the number\n",
    "                # of users who found the review helpful and/or funny\n",
    "                # depends on a couple facts\n",
    "                helpful_and_funny_list = stripped_strings[0].split()\n",
    "                if (helpful_and_funny_list[8] == 'helpful'\n",
    "                    and len(helpful_and_funny_list) == 15):\n",
    "                    helpful = helpful_and_funny_list[:9]\n",
    "                    funny = helpful_and_funny_list[9:]\n",
    "                    num_found_helpful = int(COMMA.sub(r'',\n",
    "                                                  helpful[0]))\n",
    "                    num_voted_helpfulness = int(COMMA.sub(r'',\n",
    "                                                          helpful[2]))\n",
    "                    num_found_unhelpful = \\\n",
    "                        num_voted_helpfulness - num_found_helpful\n",
    "                    found_helpful_percentage = \\\n",
    "                        float(num_found_helpful)/num_voted_helpfulness\n",
    "                    num_found_funny = funny[0]\n",
    "                recommended = stripped_strings[1]\n",
    "                total_game_hours = COMMA.sub(r'',\n",
    "                                             stripped_strings[2]\n",
    "                                             .split()[0])\n",
    "                date_posted = '{}, 2015'.format(stripped_strings[3][8:])\n",
    "                review_text = ' '.join(stripped_strings[4:-3])\n",
    "                num_games_owned = stripped_strings[-2].split()[0]\n",
    "            else:\n",
    "                sys.stderr.write('Found incorrect number of '\n",
    "                                 '\"stripped_strings\" in review HTML '\n",
    "                                 'element. stripped_strings: {}\\n'\n",
    "                                 'Continuing.'\n",
    "                                 .format(stripped_strings))\n",
    "                continue\n",
    "\n",
    "            # Make dictionary for holding all the data related to the\n",
    "            # review\n",
    "            review_dict = \\\n",
    "                dict(review_url=review_url,\n",
    "                     recommended=recommended,\n",
    "                     total_game_hours=total_game_hours,\n",
    "                     date_posted=date_posted,\n",
    "                     review=review_text,\n",
    "                     num_games_owned=num_games_owned,\n",
    "                     num_found_helpful=num_found_helpful,\n",
    "                     num_found_unhelpful=num_found_unhelpful,\n",
    "                     num_voted_helpfulness=num_voted_helpfulness,\n",
    "                     found_helpful_percentage=found_helpful_percentage,\n",
    "                     num_found_funny=num_found_funny,\n",
    "                     steam_id_number=steam_id_number,\n",
    "                     profile_url=profile_url)\n",
    "\n",
    "            # Follow links to profile and review pages and collect data\n",
    "            # from there\n",
    "            time.sleep(sleep)\n",
    "            review_page = requests.get(review_dict['review_url'])\n",
    "            time.sleep(sleep)\n",
    "            profile_page = requests.get(review_dict['profile_url'])\n",
    "            review_page_html = review_page.text\n",
    "            profile_page_html = profile_page.text\n",
    "\n",
    "            # Preprocess HTML and try to decode the HTML to unicode and\n",
    "            # then re-encode the text with ASCII, ignoring any characters\n",
    "            # that can't be represented with ASCII\n",
    "            review_page_html = \\\n",
    "                SPACE.sub(r' ',\n",
    "                          BREAKS_REGEX.sub(r' ',\n",
    "                                           review_page_html.strip()))\n",
    "            review_page_html = \\\n",
    "                UnicodeDammit(review_page_html,\n",
    "                              codecs).unicode_markup.encode('ascii',\n",
    "                                                            'ignore')\n",
    "            profile_page_html = \\\n",
    "                SPACE.sub(r' ',\n",
    "                          BREAKS_REGEX.sub(r' ',\n",
    "                                           profile_page_html.strip()))\n",
    "            profile_page_html = \\\n",
    "                UnicodeDammit(profile_page_html,\n",
    "                              codecs).unicode_markup.encode('ascii',\n",
    "                                                            'ignore')\n",
    "\n",
    "            # Now use BeautifulSoup to parse the HTML\n",
    "            review_soup = BeautifulSoup(review_page_html,\n",
    "                                        'lxml')\n",
    "            profile_soup = BeautifulSoup(profile_page_html,\n",
    "                                         'lxml')\n",
    "\n",
    "            # Get the user-name from the review page\n",
    "            review_dict['username'] = \\\n",
    "                review_soup.find('span',\n",
    "                                 'profile_small_header_name').string\n",
    "\n",
    "            # Get the number of hours the reviewer played the game in the\n",
    "            # last 2 weeks\n",
    "            review_dict['hours_previous_2_weeks'] = \\\n",
    "                COMMA.sub(r'',\n",
    "                          review_soup.find('div',\n",
    "                                           'playTime').string.split()[0])\n",
    "\n",
    "            # Get the number of comments users made on the review (if any)\n",
    "            review_dict['num_comments'] = \\\n",
    "                COMMA.sub(r'',\n",
    "                          list(review_soup\n",
    "                               .find('div',\n",
    "                                     'commentthread_count')\n",
    "                               .strings)[1])\n",
    "\n",
    "            # Get the reviewer's \"level\" (friend player level)\n",
    "            friend_player_level = profile_soup.find('div',\n",
    "                                                    'friendPlayerLevel')\n",
    "            if friend_player_level:\n",
    "                review_dict['friend_player_level'] = \\\n",
    "                    friend_player_level.string\n",
    "            else:\n",
    "                review_dict['friend_player_level'] = None\n",
    "\n",
    "            # Get the game achievements summary data\n",
    "            achievements = \\\n",
    "                profile_soup.find('span',\n",
    "                                  'game_info_achievement_summary')\n",
    "            if achievements:\n",
    "                achievements = achievements.stripped_strings\n",
    "                if achievements:\n",
    "                    achievements = list(achievements)[1].split()\n",
    "                    review_dict['achievement_progress'] = \\\n",
    "                        dict(num_achievements_attained=achievements[0],\n",
    "                             num_achievements_possible=achievements[2])\n",
    "                else:\n",
    "                    review_dict['achievement_progress'] = \\\n",
    "                        dict(num_achievements_attained=None,\n",
    "                             num_achievements_possible=None)\n",
    "            else:\n",
    "                review_dict['achievement_progress'] = \\\n",
    "                    dict(num_achievements_attained=None,\n",
    "                         num_achievements_possible=None)\n",
    "\n",
    "            # Get the number of badges the reviewer has earned on the site\n",
    "            badges = profile_soup.find('div',\n",
    "                                       'profile_badges')\n",
    "            if badges:\n",
    "                badges = badges.stripped_strings\n",
    "                if badges:\n",
    "                    review_dict['num_badges'] = list(badges)[1]\n",
    "                else:\n",
    "                    review_dict['num_badges'] = None\n",
    "            else:\n",
    "                review_dict['num_badges'] = None\n",
    "\n",
    "            # Get the number of reviews the reviewer has written across all\n",
    "            # games and the number of screenshots he/she has taken\n",
    "            reviews_screens = profile_soup.find('div',\n",
    "                                                'profile_item_links')\n",
    "            if reviews_screens:\n",
    "                reviews_screens = reviews_screens.stripped_strings\n",
    "                if reviews_screens:\n",
    "                    reviews_screens = list(reviews_screens)\n",
    "                    review_dict['num_screenshots'] = reviews_screens[3]\n",
    "                    review_dict['num_reviews'] = reviews_screens[5]\n",
    "                else:\n",
    "                    review_dict['num_screenshots'] = None\n",
    "                    review_dict['num_reviews'] = None\n",
    "            else:\n",
    "                review_dict['num_screenshots'] = None\n",
    "                review_dict['num_reviews'] = None\n",
    "\n",
    "            # Get the number of groups the reviewer is part of on the site\n",
    "            groups = profile_soup.find('div',\n",
    "                                       'profile_group_links')\n",
    "            if groups:\n",
    "                groups = groups.stripped_strings\n",
    "                if groups:\n",
    "                    review_dict['num_groups'] = list(groups)[1]\n",
    "                else:\n",
    "                    review_dict['num_groups'] = None\n",
    "            else:\n",
    "                review_dict['num_groups'] = None\n",
    "\n",
    "            # Get the number of friends the reviwer has on the site\n",
    "            friends = profile_soup.find('div',\n",
    "                                        'profile_friend_links')\n",
    "            if friends:\n",
    "                friends = friends.stripped_strings\n",
    "                if friends:\n",
    "                    review_dict['num_friends'] = list(friends)[1]\n",
    "                else:\n",
    "                    review_dict['num_friends'] = None\n",
    "            else:\n",
    "                review_dict['num_friends'] = None\n",
    "\n",
    "            yield review_dict\n",
    "\n",
    "            reviews_count += 1\n",
    "            if reviews_count == limit:\n",
    "                break\n",
    "\n",
    "        if reviews_count == limit:\n",
    "            break\n",
    "\n",
    "        # Increment the range_begin and i variables, which will be used in\n",
    "        # the generation of the next page of reviews\n",
    "        range_begin += 10\n",
    "        i += 1"
   ]
  },
  {
   "cell_type": "code",
   "execution_count": null,
   "metadata": {},
   "outputs": [],
   "source": [
    "# Alright, let's see if that worked\n",
    "# We'll create an empty set of reviews and as each new set of reviews is\n",
    "# generated by the function, we'll add in all of the reviews in the set\n",
    "# to the set of reviews (if any are duplicates, they will not be added)\n",
    "reviews = [review for review in get_review_data_for_game('570',\n",
    "                                                         time_out=3,\n",
    "                                                         limit=1)]"
   ]
  },
  {
   "cell_type": "code",
   "execution_count": null,
   "metadata": {
    "scrolled": true
   },
   "outputs": [],
   "source": [
    "len(reviews)\n",
    "reviews = list(reviews)\n",
    "reviews"
   ]
  },
  {
   "cell_type": "code",
   "execution_count": null,
   "metadata": {},
   "outputs": [],
   "source": [
    "len(reviews)"
   ]
  },
  {
   "cell_type": "code",
   "execution_count": null,
   "metadata": {},
   "outputs": [],
   "source": []
  }
 ],
 "metadata": {
  "kernelspec": {
   "display_name": "Python 3",
   "language": "python",
   "name": "python3"
  },
  "language_info": {
   "codemirror_mode": {
    "name": "ipython",
    "version": 3
   },
   "file_extension": ".py",
   "mimetype": "text/x-python",
   "name": "python",
   "nbconvert_exporter": "python",
   "pygments_lexer": "ipython3",
   "version": "3.6.5"
  }
 },
 "nbformat": 4,
 "nbformat_minor": 1
}
